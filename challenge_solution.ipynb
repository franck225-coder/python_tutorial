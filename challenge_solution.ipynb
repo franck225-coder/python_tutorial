{
 "cells": [
  {
   "cell_type": "markdown",
   "source": [
    "# ***CHALLENGE 1 SOLUTION***"
   ],
   "metadata": {}
  },
  {
   "cell_type": "code",
   "execution_count": null,
   "source": [
    "# asking for user inputs\r\n",
    "user_name = input(\"Input your name: \")\r\n",
    "user_age = int(input(\"Input your age: \"))\r\n",
    "\r\n",
    "# calculating whrn user will turn 100\r\n",
    "current_year = 2021\r\n",
    "user_turning_100 = (100 - user_age) + current_year\r\n",
    "\r\n",
    "# display\r\n",
    "print(f\"{user_name} your will turn 100 years old in {user_turning_100}!\\nAhaha Enjoy while you are alive\")"
   ],
   "outputs": [],
   "metadata": {}
  },
  {
   "cell_type": "code",
   "execution_count": null,
   "source": [
    "print(\"I am going to Guess when you will turn 100 years old !!!!\")\r\n",
    "print(\" > \")\r\n",
    "\r\n",
    "user_name = input(\"Input your name: \")\r\n",
    "user_age = int(input(\"Input your age: \"))\r\n",
    "message_display = int(input(\"how many times do want me to display the result: \"))\r\n",
    "\r\n",
    "# calculating whrn user will turn 100\r\n",
    "current_year = 2021\r\n",
    "user_turning_100 = (100 - user_age) + current_year\r\n",
    "\r\n",
    "# display\r\n",
    "for _ in range(0,message_display):\r\n",
    "    print(f\"{user_name} your will turn 100 years old in {user_turning_100}!\\nAhaha Enjoy while you are alive\")"
   ],
   "outputs": [],
   "metadata": {}
  },
  {
   "cell_type": "markdown",
   "source": [
    "# **CHALLENGE 2 SOLUTION**"
   ],
   "metadata": {}
  },
  {
   "cell_type": "code",
   "execution_count": 10,
   "source": [
    "print(\"Enter a number and I will tell you if it is odd or even !!!!\")\r\n",
    "user_number = int(input(\"enter a number: \"))\r\n",
    "\r\n",
    "if user_number % 2 == 0:\r\n",
    "    print(str(user_number) + \" is an odd number !!!!\")\r\n",
    "    if user_number % 4 == 0:\r\n",
    "        print(str(user_number) + \" is an odd number and multiple of 4!!!!\")\r\n",
    "else:\r\n",
    "    print(str(user_number) + \" is an even number !!!!\")"
   ],
   "outputs": [
    {
     "output_type": "stream",
     "name": "stdout",
     "text": [
      "Enter a number and I will tell you if it is odd or even !!!!\n",
      "4 is an odd number !!!!\n",
      "4 is an odd number and multiple of 4!!!!\n"
     ]
    }
   ],
   "metadata": {}
  },
  {
   "cell_type": "code",
   "execution_count": null,
   "source": [],
   "outputs": [],
   "metadata": {}
  }
 ],
 "metadata": {
  "orig_nbformat": 4,
  "language_info": {
   "name": "python",
   "version": "3.7.6",
   "mimetype": "text/x-python",
   "codemirror_mode": {
    "name": "ipython",
    "version": 3
   },
   "pygments_lexer": "ipython3",
   "nbconvert_exporter": "python",
   "file_extension": ".py"
  },
  "kernelspec": {
   "name": "python3",
   "display_name": "Python 3.7.6 64-bit ('base': conda)"
  },
  "interpreter": {
   "hash": "f686fdc118ffc4aa3cfc49dea14bffa512884a21c608738156b0199a3b72a68c"
  }
 },
 "nbformat": 4,
 "nbformat_minor": 2
}