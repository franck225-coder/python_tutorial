{
 "cells": [
  {
   "cell_type": "markdown",
   "metadata": {},
   "source": [
    "# ***CHALLENGE 1 SOLUTION***"
   ]
  },
  {
   "cell_type": "code",
   "execution_count": null,
   "metadata": {},
   "outputs": [],
   "source": [
    "# asking for user inputs\n",
    "user_name = input(\"Input your name: \")\n",
    "user_age = int(input(\"Input your age: \"))\n",
    "\n",
    "# calculating whrn user will turn 100\n",
    "current_year = 2021\n",
    "user_turning_100 = (100 - user_age) + current_year\n",
    "\n",
    "# display\n",
    "print(f\"{user_name} your will turn 100 years old in {user_turning_100}!\\nAhaha Enjoy while you are alive\")"
   ]
  },
  {
   "cell_type": "code",
   "execution_count": null,
   "metadata": {},
   "outputs": [],
   "source": [
    "print(\"I am going to Guess when you will turn 100 years old !!!!\")\n",
    "print(\" > \")\n",
    "\n",
    "user_name = input(\"Input your name: \")\n",
    "user_age = int(input(\"Input your age: \"))\n",
    "message_display = int(input(\"how many times do want me to display the result: \"))\n",
    "\n",
    "# calculating whrn user will turn 100\n",
    "current_year = 2021\n",
    "user_turning_100 = (100 - user_age) + current_year\n",
    "\n",
    "# display\n",
    "for _ in range(0,message_display):\n",
    "    print(f\"{user_name} your will turn 100 years old in {user_turning_100}!\\nAhaha Enjoy while you are alive\")"
   ]
  },
  {
   "cell_type": "markdown",
   "metadata": {},
   "source": [
    "# ***EXERCISE 2 SOLUTION***"
   ]
  },
  {
   "cell_type": "code",
   "execution_count": null,
   "metadata": {},
   "outputs": [],
   "source": [
    "# 1\n",
    "msg = \"Denyse,Marie,Smith,21,London,UK\"\n",
    "msg_edit = msg.replace(\",\", \" \")\n",
    "print(msg_edit)\n",
    "\n",
    "# 2\n",
    "first_name = input(\"first name: \\n\")\n",
    "last_name = input(\"last name: \\n\")\n",
    "new_string = first_name + \" \" + last_name\n",
    "print(new_string)\n",
    "length_new_string = len(new_string)\n",
    "new_string_upper = new_string.upper()\n",
    "new_string_find = new_string.find(\"Albus\")\n",
    "\n",
    "print(new_string)\n",
    "print(\"The length of the string is: \", length_new_string)\n",
    "print(\"The entered string in uppercase is: \", new_string_upper)\n",
    "print(\"Does new_string contains the string 'Albus' as a substring: \", new_string_find)"
   ]
  },
  {
   "cell_type": "markdown",
   "metadata": {},
   "source": [
    "# **CHALLENGE 2 SOLUTION**"
   ]
  },
  {
   "cell_type": "code",
   "execution_count": null,
   "metadata": {},
   "outputs": [],
   "source": [
    "print(\"Enter a number and I will tell you if it is odd or even !!!!\")\n",
    "user_number = int(input(\"enter a number: \"))\n",
    "\n",
    "if user_number % 2 == 0:\n",
    "    print(str(user_number) + \" is an odd number !!!!\")\n",
    "    if user_number % 4 == 0:\n",
    "        print(str(user_number) + \" is an odd number and multiple of 4!!!!\")\n",
    "else:\n",
    "    print(str(user_number) + \" is an even number !!!!\")\n",
    "# 2\n",
    "num = int(input(\"enter a number: \"))\n",
    "check = int(input(\"enter another number: \"))\n",
    "if num % check == 0:\n",
    "    print(f\"{check} divides evemly into {num}\")\n",
    "else:\n",
    "    print(f\"{check} does not divide evemly into {num}, {num % check} is the remainder\")"
   ]
  },
  {
   "cell_type": "markdown",
   "metadata": {},
   "source": [
    "# ***CHALLENGE 3 solution***"
   ]
  },
  {
   "cell_type": "code",
   "execution_count": null,
   "metadata": {},
   "outputs": [],
   "source": [
    "list_numbers = [22, 0, 4, 3, 37, 78, 3, 97, 34, 50, 88, 100]\n",
    "# 1\n",
    "element_less_five = []\n",
    "for element in list_numbers:\n",
    "    if element < 5:\n",
    "        element_less_five.append(element)\n",
    "print(f\"from {list_numbers} this are the ones less than five: {element_less_five}\")\n",
    "\n",
    "# 2\n",
    "less_than_five = [less_five for less_five in list_numbers if less_five < 5]\n",
    "print(less_than_five)\n",
    "\n",
    "# 3\n",
    "user_number = int(input(\"enter a number: \"))\n",
    "new_list_numbers = []\n",
    "for number in list_numbers:\n",
    "    if user_number < number:\n",
    "        new_list_numbers.append(number)\n",
    "print(new_list_numbers)"
   ]
  },
  {
   "cell_type": "markdown",
   "metadata": {},
   "source": [
    "# ***EXERCISE 4 solution***"
   ]
  },
  {
   "cell_type": "code",
   "execution_count": null,
   "metadata": {},
   "outputs": [],
   "source": [
    "show = \"What are the cities you have visited ? \"\n",
    "show += \"\\nEnter 'quit' when you are done.\\n\"\n",
    "cities_list = []\n",
    "while True:\n",
    "    city = input(show)\n",
    "    if city == 'quit':\n",
    "        break\n",
    "    elif city != 'quit':\n",
    "        cities_list.append(city)\n",
    "\n",
    "print(\"\\nmy visited cities are : \")\n",
    "for visited_city in cities_list:\n",
    "    print(visited_city)"
   ]
  },
  {
   "cell_type": "markdown",
   "metadata": {},
   "source": [
    "# ***CHALLENGE 4 solution***"
   ]
  },
  {
   "cell_type": "code",
   "execution_count": 11,
   "metadata": {},
   "outputs": [
    {
     "name": "stdout",
     "output_type": "stream",
     "text": [
      "Sorry Guess again\n",
      "Sorry Guess again\n",
      "YAAAAAYY you Won\n"
     ]
    }
   ],
   "source": [
    "'''Code'''\n",
    "import random \n",
    "\n",
    "rand_num = random.randint(1,9)\n",
    "# ask user to guess \n",
    "user_input = \"You can enter your guessing number (1-9)\"\n",
    "counter = 0\n",
    "# check for user number\n",
    "\n",
    "while (True):\n",
    "    question = int(input(user_input))\n",
    "    counter += 1\n",
    "    if question == rand_num:\n",
    "        print (f\"YAAAAAYY you guessed right and attempted {counter} times\")\n",
    "    elif question != rand_num:\n",
    "        print (\"Sorry Guess again\")\n",
    "    elif question == 'quit':\n",
    "        break"
   ]
  },
  {
   "cell_type": "markdown",
   "metadata": {},
   "source": [
    "# ***EXERCISE 5 solution***"
   ]
  },
  {
   "cell_type": "code",
   "execution_count": null,
   "metadata": {},
   "outputs": [],
   "source": [
    "''' Code '''"
   ]
  },
  {
   "cell_type": "markdown",
   "metadata": {},
   "source": []
  }
 ],
 "metadata": {
  "interpreter": {
   "hash": "f686fdc118ffc4aa3cfc49dea14bffa512884a21c608738156b0199a3b72a68c"
  },
  "kernelspec": {
   "display_name": "Python 3.7.6 64-bit ('base': conda)",
   "name": "python3"
  },
  "language_info": {
   "codemirror_mode": {
    "name": "ipython",
    "version": 3
   },
   "file_extension": ".py",
   "mimetype": "text/x-python",
   "name": "python",
   "nbconvert_exporter": "python",
   "pygments_lexer": "ipython3",
   "version": "3.7.7"
  },
  "orig_nbformat": 4
 },
 "nbformat": 4,
 "nbformat_minor": 2
}
