{
    "cells": [
        {
            "cell_type": "code",
            "execution_count": 1,
            "source": [
                "import this"
            ],
            "outputs": [
                {
                    "output_type": "stream",
                    "name": "stdout",
                    "text": [
                        "The Zen of Python, by Tim Peters\n",
                        "\n",
                        "Beautiful is better than ugly.\n",
                        "Explicit is better than implicit.\n",
                        "Simple is better than complex.\n",
                        "Complex is better than complicated.\n",
                        "Flat is better than nested.\n",
                        "Sparse is better than dense.\n",
                        "Readability counts.\n",
                        "Special cases aren't special enough to break the rules.\n",
                        "Although practicality beats purity.\n",
                        "Errors should never pass silently.\n",
                        "Unless explicitly silenced.\n",
                        "In the face of ambiguity, refuse the temptation to guess.\n",
                        "There should be one-- and preferably only one --obvious way to do it.\n",
                        "Although that way may not be obvious at first unless you're Dutch.\n",
                        "Now is better than never.\n",
                        "Although never is often better than *right* now.\n",
                        "If the implementation is hard to explain, it's a bad idea.\n",
                        "If the implementation is easy to explain, it may be a good idea.\n",
                        "Namespaces are one honking great idea -- let's do more of those!\n"
                    ]
                }
            ],
            "metadata": {}
        },
        {
            "cell_type": "markdown",
            "source": [
                "The zen of Python contains 20 guidances that have influence the design of python"
            ],
            "metadata": {}
        },
        {
            "cell_type": "markdown",
            "source": [],
            "metadata": {}
        },
        {
            "cell_type": "code",
            "execution_count": null,
            "source": [],
            "outputs": [],
            "metadata": {}
        }
    ],
    "metadata": {
        "orig_nbformat": 4,
        "language_info": {
            "name": "python",
            "version": "3.7.9",
            "mimetype": "text/x-python",
            "codemirror_mode": {
                "name": "ipython",
                "version": 3
            },
            "pygments_lexer": "ipython3",
            "nbconvert_exporter": "python",
            "file_extension": ".py"
        },
        "kernelspec": {
            "name": "python3",
            "display_name": "Python 3.7.9 64-bit ('t_2_3': conda)"
        },
        "interpreter": {
            "hash": "f7de6da7778708d490e39f98b70f816e1974b9aa79eba8cc949b60c05bb883c1"
        }
    },
    "nbformat": 4,
    "nbformat_minor": 2
}