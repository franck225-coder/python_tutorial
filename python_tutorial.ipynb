{
    "cells": [
        {
            "cell_type": "markdown",
            "metadata": {},
            "source": [
                "# **Welcome :)** \n",
                "Hey guys, I am glad you decided to learn python and for that I can assure you that you made a valuable choice. \n",
                "I am *Franck* and in my tutorial, you will learn the basics of `python` programming through explanations and \n",
                "challenge designed for you to improve your skills.\n",
                "We will be covering these topics:\n",
                "1. The Zen of Python\n",
                "2. Hello World in Python\n",
                "3. User input\n",
                "4. Variables and strings\n",
                "5. Naming Conventions\n",
                "6. Python strings\n",
                "    - What can you do with strings\n",
                "7. Arithmetic operators\n",
                "    - Assign operators\n",
                "8. List in python\n",
                "9. Tuples\n",
                "10. dictionaries\n",
                "11. Looping/ iteration\n",
                "12. Functions \n",
                "13. Classes\n",
                "14. Conclusion"
            ]
        },
        {
            "cell_type": "markdown",
            "metadata": {},
            "source": [
                "# **The Zen of Python**\n",
                "\"The Zen of Python\" contains 20 guidances that have influence the design of python.  readable, and clean code. Next time you You are coding, try following these guidelines to write beautifully and make your code more reusable."
            ]
        },
        {
            "cell_type": "code",
            "execution_count": 1,
            "metadata": {},
            "outputs": [
                {
                    "name": "stdout",
                    "output_type": "stream",
                    "text": [
                        "The Zen of Python, by Tim Peters\n",
                        "\n",
                        "Beautiful is better than ugly.\n",
                        "Explicit is better than implicit.\n",
                        "Simple is better than complex.\n",
                        "Complex is better than complicated.\n",
                        "Flat is better than nested.\n",
                        "Sparse is better than dense.\n",
                        "Readability counts.\n",
                        "Special cases aren't special enough to break the rules.\n",
                        "Although practicality beats purity.\n",
                        "Errors should never pass silently.\n",
                        "Unless explicitly silenced.\n",
                        "In the face of ambiguity, refuse the temptation to guess.\n",
                        "There should be one-- and preferably only one --obvious way to do it.\n",
                        "Although that way may not be obvious at first unless you're Dutch.\n",
                        "Now is better than never.\n",
                        "Although never is often better than *right* now.\n",
                        "If the implementation is hard to explain, it's a bad idea.\n",
                        "If the implementation is easy to explain, it may be a good idea.\n",
                        "Namespaces are one honking great idea -- let's do more of those!\n"
                    ]
                }
            ],
            "source": [
                "import this"
            ]
        },
        {
            "cell_type": "markdown",
            "metadata": {},
            "source": [
                "# **Hello World in Python**\n"
            ]
        },
        {
            "cell_type": "code",
            "execution_count": null,
            "metadata": {},
            "outputs": [],
            "source": [
                "print('Hello, world')"
            ]
        },
        {
            "cell_type": "markdown",
            "metadata": {},
            "source": [
                "# **User input**\n",
                "In order to get input from user we use the keyword ```input()```"
            ]
        },
        {
            "cell_type": "code",
            "execution_count": null,
            "metadata": {},
            "outputs": [],
            "source": [
                "# asking the user name and printing an Hello Text\n",
                "user_name = input('what\\'s your name: \\n')\n",
                "message = 'Hello ' + user_name\n",
                "print(message)\n",
                "\n",
                "# modify the previous code to ask for user's age\n",
                "# and print : \"Hello xxxx you are 24\""
            ]
        },
        {
            "cell_type": "code",
            "execution_count": null,
            "metadata": {},
            "outputs": [],
            "source": [
                "\"\"\"Your code here\"\"\"\n"
            ]
        },
        {
            "cell_type": "markdown",
            "metadata": {},
            "source": [
                "# **Variables and Strings**\n",
                "Variables are used to store values. A string is a series of characters, surrounded by single or double quotes.\n",
                "It is a called a variable because the value it references in memory can vary during the lifetime of the program."
            ]
        },
        {
            "cell_type": "code",
            "execution_count": null,
            "metadata": {},
            "outputs": [],
            "source": [
                "# we can modify our Hello World program to ask the user for the\n",
                "# name of their best friend and print out a welcome message to that best friend. If we\n",
                "# want to, we can reuse the variable to hold the name of that best friend. For example:\n",
                "\n",
                "print('Hello, world')\n",
                "name = input('Enter your name: ')\n",
                "print('Hello', name)\n",
                "name = input('What is the name of your best friend: ')\n",
                "print('Hello Best Friend', name)\n",
                "\n",
                "# Hello world with a variable\n",
                "text = \"Hello world\"\n",
                "print(text)\n",
                "\n",
                "# Concatenation (Combining strings)\n",
                "name = \"Coder_225\"\n",
                "job = \"Programmer\"\n",
                "intro = name + \" \" + \"I am a \" + job\n",
                "## using format option in a simple string\n",
                "print(f\"my name is {name} I am a {job}\")\n",
                "print(intro)"
            ]
        },
        {
            "cell_type": "markdown",
            "metadata": {},
            "source": [
                "# **Naming Conventions**\n",
                "***user_name*** and ***my_variable***. Both these variable names are formed of a set of characters with an underbar between the 'words' in the variable name.\n",
                "Both these variable names highlight a very widely used naming convention in Python, which is that variable names should: <br>\n",
                "* be all lowercase,\n",
                "* be in general more descriptive than variable names such as a or b (although\n",
                "there are some exceptions such as the use of variables i and j in looping\n",
                "constructs).\n",
                "* with individual words separated by underscores as necessary to improve\n",
                "readability.<br>\n",
                "This last point is very important as in Python (and most computer programming\n",
                "languages) spaces are treated as separators which can be used to indicate where one\n",
                "thing ends and another starts. Thus it is not possible to define a variable name such\n",
                "as:<br>\n",
                "* user name\n",
                "As the space is treated by Python as a separator and thus Python thinks you are\n",
                "defining two things ***'user'*** and ***'name'***.\n",
                "When you create your own variables, you should try to name then following the\n",
                "Python accepted style thus name such as:\n",
                "* my_name, your_name, user_name, account_name\n",
                "* count, total_number_of_users, percentage_passed, pass_rate\n",
                "* where_we_live, house_number,\n",
                "* is_okay, is_correct, status_flag <br>\n",
                "are all acceptable but\n",
                "* A, Aaaaa, aaAAAaa\n",
                "* Myname, myName, MyName or MYName\n",
                "* WHEREWELIVE <br>\n",
                "<p>Do not meet the accepted conventions.However, it is worth mentioning that these are merely commonly adhered to conventions and even Python itself does not always comply with these conventions.Thus if you define a variable name that does not conform to the convention Python will not complain.</p>"
            ]
        },
        {
            "cell_type": "markdown",
            "metadata": {},
            "source": [
                "# **Online Resources**\n",
                "See the Python Standard Library documentation for:\n",
                "- [Python Library](https://docs.python.org/3/reference/simple_stmts.html) For information on statements in Python."
            ]
        },
        {
            "cell_type": "markdown",
            "metadata": {},
            "source": [
                "# **Exercices 1**\n",
                "\n",
                "1. If you have not yet run the Hello World program, then do so now. To run your\n",
                "program you have several options.\n",
                "2. Now ensure that you are comfortable with what the program actually does. Try\n",
                "commenting out some lines—what happens; is that the behaviour you expected?\n",
                "check that you are happy with what it does.\n",
                "3. Once you have done that, modify the program with your own prompts to the\n",
                "user (the string argument given to the input function). Make sure that each string\n",
                "is surrounded by the single quote characters (''); remember these denote the start\n",
                "and end of a string.\n",
                "4. Try creating your own variables and storing values into those instead of the\n",
                "variable user_name.\n",
                "5. Add a print() function to the program with your own prompt.\n",
                "6. Include an assignment that will add two numbers together (for example 4 + 5)\n",
                "and then assign the result to a variable.\n",
                "7. Now print out that variables value once it has been assigned a value.\n",
                "8. Make sure you can run the program after each of the above changes. If there is\n",
                "an error reported attempt to fix that issue before moving on."
            ]
        },
        {
            "cell_type": "markdown",
            "metadata": {},
            "source": [
                "# **Python Strings**\n",
                "In Python a string is a series, or sequence, of characters in order. In this defi-\n",
                "nition a character is anything you can type on the keyboard in one keystroke, such\n",
                "as a letter 'a', 'b', 'c' or a number '1', '2', '3' or a special characters such as '\\', '[', '$' etc.\n",
                "a space is also a character ' '. Example: of strings<br>\n",
                "- 'Hello'\n",
                "- \"Hello\"\n",
                "- \"Hey, you how is Python\"\n",
                "- 'I am Hungry...'"
            ]
        },
        {
            "cell_type": "markdown",
            "metadata": {},
            "source": [
                "# **What Can You Do with Strings?**\n",
                "<p>What operations or functions are their available or built-in that you can use to work with strings. The answer is that there are very many. Here are some of the Operations.</p>"
            ]
        },
        {
            "cell_type": "markdown",
            "metadata": {},
            "source": [
                "### ***String Concatenation***:\n",
                "You can concatenate two strings together using the '+' operator (an operator is an\n",
                "operation or behaviour that can be applied to the types involved). That is you can\n",
                "take one string and add it to another string to create a new third string:"
            ]
        },
        {
            "cell_type": "code",
            "execution_count": null,
            "metadata": {},
            "outputs": [],
            "source": [
                "# Concatenation (Combining strings)\n",
                "name = \"Coder_225\"\n",
                "job = \"Programmer\"\n",
                "intro = \"My name is \" + name + \" I am a \" + job\n",
                "print(intro)"
            ]
        },
        {
            "cell_type": "markdown",
            "metadata": {},
            "source": [
                "### ***Length of a String***\n",
                "It can sometimes be useful to know how long a string is, for example if you are\n",
                "putting a string into a user interface you might need to know how much of the string\n",
                "will be displayed within a field. To find out the length of a string in Python you use\n",
                "the ```len()``` function, for example"
            ]
        },
        {
            "cell_type": "code",
            "execution_count": null,
            "metadata": {},
            "outputs": [],
            "source": [
                "my_name = \"Franck_Armand\"\n",
                "print(len(my_name))"
            ]
        },
        {
            "cell_type": "markdown",
            "metadata": {},
            "source": [
                "### ***Accessing a Character***\n",
                "As a string is a fixed sequence of letters, it is possible to use square brackets and an\n",
                "index (or position) to retrieve a specific character from within a string.\n",
                ">However, you should note that strings are indexed from Zero! This means that the first character is in position 0, the second in position 1 etc."
            ]
        },
        {
            "cell_type": "code",
            "execution_count": null,
            "metadata": {},
            "outputs": [],
            "source": [
                "my_string = \"I like coding\"\n",
                "print(my_string[2])"
            ]
        },
        {
            "cell_type": "markdown",
            "metadata": {},
            "source": [
                "### ***Accessing a Subset of Characters***\n",
                "It is also possible to obtain a subset of the original string"
            ]
        },
        {
            "cell_type": "code",
            "execution_count": null,
            "metadata": {},
            "outputs": [],
            "source": [
                "my_string = 'Hello World'\n",
                "print(my_string[4]) # characters at position 4\n",
                "print(my_string[1:5]) # from position 1 to 5\n",
                "print(my_string[:5]) # from start to position 5\n",
                "print(my_string[2:]) # from position 2 to the end\n",
                "print(my_string[-1]) # last element of the string"
            ]
        },
        {
            "cell_type": "markdown",
            "metadata": {},
            "source": [
                "### ***Splitting Strings***\n",
                "A very common requirement is the need to split a string up into multiple separate\n",
                "strings based on a specific character such as a space or a comma.\n",
                "This can be done with the ```split()``` function, that takes a string to used in\n",
                "identifying how to split up the receiving string. For example:"
            ]
        },
        {
            "cell_type": "code",
            "execution_count": null,
            "metadata": {},
            "outputs": [],
            "source": [
                "title = 'The Good, The Bad, and the Ugly'\n",
                "print('Source string:', title)\n",
                "print('Split using a space')\n",
                "print(title.split(' '))\n",
                "print('Split using a comma')\n",
                "print(title.split(','))"
            ]
        },
        {
            "cell_type": "markdown",
            "metadata": {},
            "source": [
                "### ***Counting Strings***\n",
                "It is possible to find out how many times a string is repeated in another string. This\n",
                "is done using the ```count()``` operation for example"
            ]
        },
        {
            "cell_type": "code",
            "execution_count": null,
            "metadata": {},
            "outputs": [],
            "source": [
                "my_string = 'Count, the number    of spaces'\n",
                "print(\"my_string.count(' '):\", my_string.count(' '))"
            ]
        },
        {
            "cell_type": "markdown",
            "metadata": {},
            "source": [
                "### ***Replacing Strings***\n",
                "One string can replace a substring in another string. This is done using the\n",
                "```replace()``` method on a string. For example:"
            ]
        },
        {
            "cell_type": "code",
            "execution_count": null,
            "metadata": {},
            "outputs": [],
            "source": [
                "welcome_message = 'Hello Python students!'\n",
                "print(welcome_message.replace(\"Hello\", \"Goodbye\"))"
            ]
        },
        {
            "cell_type": "markdown",
            "metadata": {},
            "source": [
                "### ***Finding Sub Strings***\n",
                "You can find out if one string is a substring of another string using the ```find()```\n",
                "method. This method takes a second string as a parameter and checks to see if that\n",
                "string is in the string receiving the ```find()``` method, for example: ```string.find(string_to_find)```\n",
                "The method returns −1 if the string is not present. Otherwise it returns an index\n",
                "indicating the start of the substring."
            ]
        },
        {
            "cell_type": "code",
            "execution_count": null,
            "metadata": {},
            "outputs": [],
            "source": [
                "print('Students of UESTC master dorm 1'.find('dorm'))"
            ]
        },
        {
            "cell_type": "markdown",
            "metadata": {},
            "source": [
                "### ***Converting Other Types into Strings***\n",
                "If you try to use the '+' concatenation operator with a string and some other type\n",
                "such as a number then you will get an error. For instance:\n",
                "``` python\n",
                "msg = 'Hello Lloyd you are ' + 21\n",
                "print(msg)\n",
                "```\n",
                "You will get an error message indicating that you can only concatenate strings\n",
                "with strings not integers with strings. To concatenate a number such as 21 with a\n",
                "string you must convert it to a string. This can be done using the str() function.\n",
                "This contest any type into a string representation of that type. For example:"
            ]
        },
        {
            "cell_type": "code",
            "execution_count": null,
            "metadata": {},
            "outputs": [],
            "source": [
                "msg = 'Hello Franck you are ' + str(10)\n",
                "print(msg)"
            ]
        },
        {
            "cell_type": "markdown",
            "metadata": {},
            "source": [
                "### ***Other String Operations***\n",
                "<p>There are in fact very many different operations available for strings, including\n",
                "checking that a string starts or ends with another string, that is it upper or lower case\n",
                "etc. It is also possible to replace part of a string with another string, convert strings\n",
                "to upper, lower or title case etc.</p>"
            ]
        },
        {
            "cell_type": "code",
            "execution_count": null,
            "metadata": {},
            "outputs": [],
            "source": [
                "some_string = 'Hello World'\n",
                "print('Testing a String')\n",
                "print('-' * 20)\n",
                "print('some_string', some_string)\n",
                "print(\"some_string.startswith('H')\", some_string.startswith('H'))\n",
                "print(\"some_string.startswith('h')\", some_string.startswith('h'))\n",
                "print(\"some_string.endswith('d')\", some_string.endswith('d'))\n",
                "print('some_string.istitle()', some_string.istitle())\n",
                "print('some_string.isupper()', some_string.isupper())\n",
                "print('some_string.islower()', some_string.islower())\n",
                "print('some_string.isalpha()', some_string.isalpha())\n",
                "print('String conversions')\n",
                "print('-' * 20)\n",
                "print('some_string.upper()', some_string.upper())\n",
                "print('some_string.lower()', some_string.lower())\n",
                "print('some_string.title()', some_string.title())\n",
                "print('some_string.swapcase()', some_string.swapcase())\n",
                "print('String leading, trailing spaces', \" xyz \".strip())"
            ]
        },
        {
            "cell_type": "markdown",
            "metadata": {},
            "source": [
                "# **Exercises 2**\n",
                "We are going to try out some of the string related operations.\n",
                "1. Explore replacing a string\n",
                "Create a string with words separated by ',' and replace the commas with spaces;\n",
                "for example replace all the commas in 'Denyse,Marie,Smith,21,London,UK'\n",
                "with spaces. Now print out the resulting string.\n",
                "2. Handle user input\n",
                "The aim of this exercise is to write a program to ask the user for two strings and\n",
                "concatenate them together, with a space between them and store them into a new\n",
                "variable called new_string.\n",
                "Next:\n",
                "+ Print out the value of new_string.\n",
                "+ Print out how long the contents of new_string is.\n",
                "+ Now convert the contents of new_string to all upper case.\n",
                "+ Now check to see if new_string contains the string 'Albus' as a substring."
            ]
        },
        {
            "cell_type": "code",
            "execution_count": null,
            "metadata": {},
            "outputs": [],
            "source": [
                "''' Your Solution here'''"
            ]
        },
        {
            "cell_type": "markdown",
            "metadata": {},
            "source": [
                "# **CHALLENGE 1**\n",
                "Create a program to ask for the user name and their age. and return a message telling them when the year they will turn 100 years old.\n",
                "\n",
                "Extras:\n",
                "1. Add on to the previous program by asking the user for another number and printing out that many copies of the previous message.\n",
                "2. Print out that many copies of the previous message on separate lines."
            ]
        },
        {
            "cell_type": "code",
            "execution_count": null,
            "metadata": {},
            "outputs": [],
            "source": [
                "''' Your Code here....'''"
            ]
        },
        {
            "cell_type": "markdown",
            "metadata": {},
            "source": [
                "# **Arithmetic Operators**\n",
                "Arithmetic operators are used to perform some form of mathematical operation such as addition, subtraction, multiplication and division etc. In Python they are represented by one or two characters.\n",
                ">Ckeck assets foder for the arithmetic operators in python ![Arithmetic operators](./assets/Arithmetic.png)"
            ]
        },
        {
            "cell_type": "code",
            "execution_count": null,
            "metadata": {},
            "outputs": [],
            "source": [
                "# addition\n",
                "home = 10\n",
                "away = 15\n",
                "print(home + away)\n",
                "print(type(home + away))\n",
                "\n",
                "# multiplication\n",
                "print(10 * 4)\n",
                "print(type(10*4))\n",
                "\n",
                "# subtraction\n",
                "goals_for = 10\n",
                "goals_against = 7\n",
                "print(goals_for - goals_against)\n",
                "print(type(goals_for - goals_against))\n",
                "\n",
                "# normal division\n",
                "res1 = 3/2\n",
                "print(res1)\n",
                "print(type(res1))\n",
                "\n",
                "#integer division\n",
                "res2 = 3//2\n",
                "print(res2)\n",
                "print(type(res2))\n",
                "\n",
                "# Modulus\n",
                "print('Modulus division 4 % 2:', 4 % 2)\n",
                "print('Modulus division 3 % 2:', 3 % 2)\n",
                "\n",
                "# power\n",
                "a = 5\n",
                "b = 3\n",
                "print(a ** b)"
            ]
        },
        {
            "cell_type": "markdown",
            "metadata": {},
            "source": [
                "# Assign operators\n",
                "These assignment operators are actually referred to as compound operators as\n",
                "they combine together a numeric operation (such as add) with the assignment\n",
                "operator. For example, the += compound operator is a combination of the add\n",
                "operator and the = operator such that\n",
                "```python\n",
                "x += 1 # has the same behaviour as x = x + 1\n",
                "```\n",
                ">Ckeck asset for more details"
            ]
        },
        {
            "cell_type": "markdown",
            "metadata": {},
            "source": [
                "# Online ressources\n",
                "See the Python Standard Library documentation for:\n",
                "* [Numeric Types](https://docs.python.org/3/library/stdtypes.html#numeric-types-int-float-complex)\n",
                "* [Boolean values and boolean testing.](https://docs.python.org/3/library/stdtypes.html#truth-value-testing)\n",
                "* [which provides information on the Python decimal module](https://docs.python.org/3/library/decimal.html)\n",
                "* [which discusses mathematical functions for complex numbers.](https://docs.python.org/3/library/cmath.html)\n",
                "\n",
                "\n",
                "If you are interested in how floating point numbers are represented then a good starting points are:\n",
                "* [whichprovides an overview of floating point representation.](https://en.wikipedia.org/wiki/Double-precision_floating-point_format)\n",
                "* [which is the Wikipedia page on the IEEE 754 Double-precision floating-point number format.](https://en.wikipedia.org/wiki/IEEE_754)"
            ]
        },
        {
            "cell_type": "markdown",
            "metadata": {},
            "source": [
                "# **Exercice 3**\n",
                "The aim of this exercise is to write a program to convert a distance in Kilometres into a distance in miles.\n",
                "1. Take input from the user for a given distance in Kilometres. This can be done\n",
                "using the ```input()``` function.\n",
                "2. Convert the value returned by the ```input()``` function from a string into an\n",
                "integer using the ```int()``` function.\n",
                "3. Now convert this value into miles—this can be done by dividing the kilometres\n",
                "by 0.6214\n",
                "4. Print out a message telling the user what the kilometres are in miles."
            ]
        },
        {
            "cell_type": "code",
            "execution_count": null,
            "metadata": {},
            "outputs": [],
            "source": [
                "''' Your code here '''"
            ]
        },
        {
            "cell_type": "markdown",
            "metadata": {},
            "source": [
                "# **CHALLENGE 2**\n",
                "Ask the user for a number. Depending on whether the number is even or odd, print out an appropriate message to the user. Hint: how does an even / odd number react differently when divided by 2?\n",
                "\n",
                "Extras:\n",
                "\n",
                "1. If the number is a multiple of 4, print out a different message.\n",
                "2. Ask the user for two numbers: one number to check (call it num) and one number to divide by (check). If check divides evenly into num, tell that to the user. If not, print a different appropriate message."
            ]
        },
        {
            "cell_type": "code",
            "execution_count": null,
            "metadata": {},
            "outputs": [],
            "source": [
                "'''Your code here '''"
            ]
        },
        {
            "cell_type": "markdown",
            "metadata": {},
            "source": [
                "# **list in python**\n",
                "A list stores a series of items in a particular order. You access items using an index, or within a loop."
            ]
        },
        {
            "cell_type": "code",
            "execution_count": null,
            "metadata": {},
            "outputs": [],
            "source": [
                "# make a list\n",
                "colors = [\"bleu\", \"red\", \"yellow\", \"green\", \"orange\"]\n",
                "\n",
                "# Get first item in a list\n",
                "first_item = colors[0]\n",
                "\n",
                "# Get the last elements in the list\n",
                "last_elements = colors[-1]\n",
                "\n",
                "# Get the entire list\n",
                "entire_list = colors[:]\n",
                "\n",
                "# Looping through a list\n",
                "for color in colors:\n",
                "    print(color)\n",
                "\n",
                "# adding item to the list\n",
                "colors.insert(1,\"black\") # This method is for adding an element at a specific index or position\n",
                "colors.append(\"purple\") # This method is for adding an element at the end of the list\n",
                "\n",
                "# deleting items from the List, we have 2 common ways to do so:\n",
                "# remove elements by its position\n",
                "del colors[-1] # This method deletes the last element from the list\n",
                "# remove elements by its value\n",
                "colors.remove(\"yellow\") # This method deletes the last element from the list\n",
                "\n",
                "# appending elements to an empty list\n",
                "sqare_numbers = []\n",
                "for number in range(1,10):\n",
                "    sqare_numbers.append(number**2)\n",
                "\n",
                "# List comprehension\n",
                "sqare_num = [number**2 for number in range(1,10)]\n",
                "\n",
                "# Slicing a List in python\n",
                "rand_elements = [\"1\",\"apple\",\"house\",\"-5\", \"100\", \"50\", \"boat\"]\n",
                "first_two = rand_elements[:2]\n",
                "starting_from_two = rand_lements[2:]\n",
                "\n",
                "# Copy a list\n",
                "copyOfRandElemts = randElements[:]"
            ]
        },
        {
            "cell_type": "markdown",
            "metadata": {},
            "source": [
                "### ***Popping elements from a list***\n",
                "by default pop() returns the last element of the list but you can pop from any position in the list."
            ]
        },
        {
            "cell_type": "code",
            "execution_count": null,
            "metadata": {},
            "outputs": [],
            "source": [
                "users = ['val', 'bob', 'mia', 'paul']\n",
                "mots_recent_user = users.pop()  # the last element is returned\n",
                "first_user = users.pop(0)\n",
                "print(mots_recent_user, \"is the last user\")\n",
                "print(first_user, \"is the first user\")"
            ]
        },
        {
            "cell_type": "markdown",
            "metadata": {},
            "source": [
                "### ***sorting a list permanently***\n"
            ]
        },
        {
            "cell_type": "code",
            "execution_count": null,
            "metadata": {},
            "outputs": [],
            "source": [
                "users = ['val', 'bob', 'mia', 'paul', 'franck']\n",
                "users.sort()\n",
                "#users.sort(reverse=True)\n",
                "print(users)"
            ]
        },
        {
            "cell_type": "markdown",
            "metadata": {},
            "source": [
                "### ***Sorting a list temporarily***"
            ]
        },
        {
            "cell_type": "code",
            "execution_count": null,
            "metadata": {},
            "outputs": [],
            "source": [
                "users = ['val','bob','mia','paul']\n",
                "print(sorted(users))\n",
                "#print(sorted(users,reverse = True)) #sorted and reverse Temporarily"
            ]
        },
        {
            "cell_type": "markdown",
            "metadata": {},
            "source": [
                "### ***List comprehensions:***\n",
                "You can use a loop to generate a list based on a range of\n",
                "numbers or on another list. This is a common operation, so\n",
                "Python offers a more efficient way to do it. List\n",
                "comprehensions may look complicated at first; if so, use the\n",
                "for loop approach until you're ready to start using\n",
                "comprehensions"
            ]
        },
        {
            "cell_type": "code",
            "execution_count": null,
            "metadata": {},
            "outputs": [],
            "source": [
                "# using a list to to generate a list of square\n",
                "square = []\n",
                "for x in range(1,11):\n",
                "    squares = x**2\n",
                "    square.append(squares)\n",
                "print(square)\n",
                "\n",
                "# using a list cmprehension to generate list of squares\n",
                "comprehension_square = [x**2 for x in range(1,11)]\n",
                "print(comprehension_square)\n",
                "\n",
                "# using a loop to convert a list of names to upper case\n",
                "names = ['mike','lucy','esme','prince']\n",
                "upper_names = []\n",
                "for name in names:\n",
                "    upper_names.append(name.upper())\n",
                "print(upper_names)\n",
                "\n",
                "# using a list comprehension to convert a list of names to upper\n",
                "names_1 = ['kai','abe','ada','gus','zoe']\n",
                "upper_names_1 = [name.upper() for name in names_1]\n",
                "print(upper_names_1)"
            ]
        },
        {
            "cell_type": "markdown",
            "metadata": {},
            "source": [
                "### ***Simple statistics, min, max and sum***"
            ]
        },
        {
            "cell_type": "code",
            "execution_count": null,
            "metadata": {},
            "outputs": [],
            "source": [
                "ages = [12,45,34,76,35,67,36,86,25,23,44,65,78,28]\n",
                "\n",
                "youngest = min(ages) #finding the smallest numerical value of a list\n",
                "oldest = max(ages)  #finding the oldest numerical value of a list\n",
                "sum_ages = sum(ages) # adding all the elements in the list\n",
                "\n",
                "print(\"the youngest from the list is :\",youngest)\n",
                "print(\"the youngest from the list is :\",oldest)\n",
                "print(\"the total ages is :\",sum_ages)"
            ]
        },
        {
            "cell_type": "markdown",
            "metadata": {},
            "source": [
                "> There are various methods attached to  List in python such ```clear()```...you can explore them on your own"
            ]
        },
        {
            "cell_type": "markdown",
            "metadata": {},
            "source": [
                "# **CHALLENGE 3**\n",
                "Take a list, say for example this one:\n",
                "\n",
                "a = [22, 0, 4, 3, 37, 78, 3, 97, 34, 50, 88, 100]\n",
                "and write a program that prints out all the elements of the list that are less than 5.\n",
                "\n",
                "Extras:\n",
                "\n",
                "* Instead of printing the elements one by one, make a new list that has all the elements less than 5 from this list in it and print out this new list.\n",
                "* Write this in one line of Python.\n",
                "* Ask the user for a number and return a list that contains only elements from the original list a that are smaller than that number given by the user."
            ]
        },
        {
            "cell_type": "code",
            "execution_count": null,
            "metadata": {},
            "outputs": [],
            "source": [
                "'''Your code here'''"
            ]
        },
        {
            "cell_type": "markdown",
            "metadata": {},
            "source": [
                "# **Tuples**\n",
                "#### Tuples are similar to lists, but the items in a tuple can't be modified. (You can overwrite an entire tuple, but you can't change the individual elements in a tuple.)"
            ]
        },
        {
            "cell_type": "code",
            "execution_count": null,
            "metadata": {},
            "outputs": [],
            "source": [
                "# Making a Tuple\n",
                "dimensions = (25, -3, 5)\n",
                "dimension = dimensions[0] # fist element in the tuple\n",
                "print (dimension)\n",
                "dimension = dimensions[-1] # Last element in the tuple\n",
                "print(dimension)\n",
                "\n",
                "# Overwriting a tuple\n",
                "distances = (45,23)\n",
                "print(distances)\n",
                "distances = (34,87)\n",
                "print(distances)\n",
                "\n",
                "# Looping through a tuple\n",
                "dimensions = (777,666)\n",
                "for dimension in dimensions:\n",
                "    print(dimension)"
            ]
        },
        {
            "cell_type": "markdown",
            "metadata": {},
            "source": [
                "# **Dictionaries**\n",
                "#### dictionaries stores info between pieces of information. it is a key-value pair"
            ]
        },
        {
            "cell_type": "code",
            "execution_count": null,
            "metadata": {},
            "outputs": [],
            "source": [
                "# creating and accessing a dictionary\n",
                "student = {\"name\": \"paul\", \"color\": \"black\", \"major\":\"computer science\",\"age\":20}\n",
                "print(\"The student name is:\" ,student[\"name\"])\n",
                "print(\"The student age is:\" ,student[\"age\"])\n",
                "# and so on ..."
            ]
        },
        {
            "cell_type": "markdown",
            "metadata": {},
            "source": [
                "#### Getting a value associated with get(): the get() function returns a none instead of an error if the key is not found."
            ]
        },
        {
            "cell_type": "code",
            "execution_count": null,
            "metadata": {},
            "outputs": [],
            "source": [
                "student = {'name': 'paul', 'color': 'black', 'id': 123, 'age': 20, \"major\":\"computer science\"}\n",
                "student_name = student.get('name')\n",
                "# here I added a key that does not belong to the dictionary\n",
                "student_color = student.get('point')\n",
                "print(\"the student name is:\", student_name + \" and his color is:\" ,student_color)  # for color it returns None"
            ]
        },
        {
            "cell_type": "markdown",
            "metadata": {},
            "source": [
                "#### Adding a new key-value pair."
            ]
        },
        {
            "cell_type": "code",
            "execution_count": null,
            "metadata": {},
            "outputs": [],
            "source": [
                "student['gender'] = 'M'\n",
                "print(student)"
            ]
        },
        {
            "cell_type": "markdown",
            "metadata": {},
            "source": [
                "#### You can modify the value associated with any key in a dictionary. To do so give the name of the dictionary and enclose the key in square brackets, then provide the new value for that key."
            ]
        },
        {
            "cell_type": "code",
            "execution_count": null,
            "metadata": {},
            "outputs": [],
            "source": [
                "student = {'name': 'franck', 'color': 'blue', 'id': 123, 'age': 23}\n",
                "print(\"This is the original dictionary:\", student)\n",
                "student['name'] = 'franck_armand'\n",
                "student['age'] = 22\n",
                "print(\"This is the edited dictionary:\", student)"
            ]
        },
        {
            "cell_type": "markdown",
            "metadata": {},
            "source": [
                "#### Removing Key-value pairs.You can remove any key-value pair you want from a dictionary. To do so use the del keyword and the dictionary name, followed by the key in square brackets. This will delete the key and its associated value."
            ]
        },
        {
            "cell_type": "code",
            "execution_count": null,
            "metadata": {},
            "outputs": [],
            "source": [
                "# deleting a key from the dic\n",
                "student = {'name': 'franck', 'color': 'blue', 'id': 123, 'age': 23}\n",
                "del student['id']\n",
                "print(student)"
            ]
        },
        {
            "cell_type": "markdown",
            "metadata": {},
            "source": [
                "#### You can loop through a dictionary in three ways: you can loop through all the key-value pairs, all the keys, or all the values. A dictionary only tracks the connections between keys and values; it doesn't track the order of items in the dictionary. If you want to process the information in order,you can sort the keys in your loop."
            ]
        },
        {
            "cell_type": "code",
            "execution_count": null,
            "metadata": {},
            "outputs": [],
            "source": [
                "# looping through all key-value pair of a dictionary\n",
                "fav_numbers = {'franck': '12', 'alex':' 23', 'eric': '1'}\n",
                "for name, number in fav_numbers.items():\n",
                "    print(name + ' loves ' + number)"
            ]
        },
        {
            "cell_type": "markdown",
            "metadata": {},
            "source": [
                "## **Little Practice**\n",
                "Create a dictionary of people's programming languages and dislay the result"
            ]
        },
        {
            "cell_type": "code",
            "execution_count": null,
            "metadata": {},
            "outputs": [],
            "source": [
                "''' You code here '''"
            ]
        },
        {
            "cell_type": "markdown",
            "metadata": {},
            "source": [
                "#### Looping through all the keys."
            ]
        },
        {
            "cell_type": "code",
            "execution_count": null,
            "metadata": {},
            "outputs": [],
            "source": [
                "fav_numb = {'franck':12,'alex':23,'eric':1}\n",
                "for name in fav_numb.keys():\n",
                "    print(name + ' loves a number')"
            ]
        },
        {
            "cell_type": "markdown",
            "metadata": {},
            "source": [
                "#### looping through all values."
            ]
        },
        {
            "cell_type": "code",
            "execution_count": null,
            "metadata": {},
            "outputs": [],
            "source": [
                "fav_numb = {'franck':12,'alex':23,'eric':1}\n",
                "for value in fav_numb.values():\n",
                "    print(str(value)+ ' is a favorite number')"
            ]
        },
        {
            "cell_type": "markdown",
            "metadata": {},
            "source": [
                "#### Dictionarty Length. You can find the number of key-value pairs in a dictionary."
            ]
        },
        {
            "cell_type": "code",
            "execution_count": null,
            "metadata": {},
            "outputs": [],
            "source": [
                "fav_languages = {\n",
                "    'jen': 'python',\n",
                "    'sarah': 'c',\n",
                "    'edward': 'ruby',\n",
                "    'phil': 'python',\n",
                "}\n",
                "print(len(fav_languages))"
            ]
        },
        {
            "cell_type": "markdown",
            "metadata": {},
            "source": [
                "#### Nesting __ A list of dictionaries. It's sometimes useful to store a set of dictionaries in a list; this is called nesting"
            ]
        },
        {
            "cell_type": "code",
            "execution_count": null,
            "metadata": {},
            "outputs": [],
            "source": [
                "# Storing dictionaries in a list\n",
                "users = []  # start with an empty list\n",
                "new_users = {    # create a new user and add it to the list\n",
                "    'last': 'kouassi',\n",
                "    'first': 'franck',\n",
                "    'username': 'coder225',\n",
                "}\n",
                "users.append(new_users)\n",
                "new_users = {        # the second user is added to the list\n",
                "    'last': 'killer',\n",
                "    'first': 'paul',\n",
                "    'username': 'admin',\n",
                "}\n",
                "users.append(new_users)\n",
                "for user_dictionary in users:\n",
                "    for key, value in user_dictionary.items():\n",
                "        print(key + ' : ' + value)\n",
                "print(\"The lenght of the nested list is:\",len(users))"
            ]
        },
        {
            "cell_type": "markdown",
            "metadata": {},
            "source": [
                "#### Storing Lists in dictionary: Storing a list inside a dictionary alows you to associate more than one value with each key."
            ]
        },
        {
            "cell_type": "code",
            "execution_count": null,
            "metadata": {},
            "outputs": [],
            "source": [
                "# Storing Lists in dictionary\n",
                "favorite_lang = {\n",
                "    'franck':['python','ruby'],\n",
                "    'sarah':['C/C'],\n",
                "    'victor':['go','java','javascript'],\n",
                "    'kussi':['haskell','python'],\n",
                "}\n",
                "for name, languages in favorite_lang.items():\n",
                "    print(name + ': ')\n",
                "    for language in languages:\n",
                "        print(\"_ \" + language)"
            ]
        },
        {
            "cell_type": "markdown",
            "metadata": {},
            "source": [
                "####  Nesting__A dictionary of dictionaries: You can store a dictionary inside another dictionary. In this case each value associated with a key is itself a dictionary"
            ]
        },
        {
            "cell_type": "code",
            "execution_count": null,
            "metadata": {},
            "outputs": [],
            "source": [
                "# Storing dictionaries in a dictionary\n",
                "students = {\n",
                "    'cs_school_student':{\n",
                "        'first':'albert',\n",
                "        'last':'einstein',\n",
                "        'address':'Germany',\n",
                "    },\n",
                "    'art_school_student':{\n",
                "        'first':'paul',\n",
                "        'last':'marc',\n",
                "        'address':'China',\n",
                "    },\n",
                "}\n",
                "for student_school, student_name in students.items():\n",
                "    print(\"\\nSchool: \" + student_school)\n",
                "    full_name = student_name[\"first\"] + \" \"\n",
                "    full_name += student_name[\"last\"]\n",
                "    location = student_name[\"address\"]\n",
                "    print(\"\\tFull name:\" ,full_name.title())\n",
                "    print(\"\\tLocation:\" ,location.title())\n"
            ]
        },
        {
            "cell_type": "markdown",
            "metadata": {},
            "source": [
                "####  Using an OrderedDict: Standard Python dictionaries don't keep track of the order in which keys and values are added; they only preserve the association between each key and its value. If you want to preserve the order in which keys and values are added, use an OrderedDict."
            ]
        },
        {
            "cell_type": "code",
            "execution_count": null,
            "metadata": {},
            "outputs": [],
            "source": [
                "# import the library\n",
                "from collections import OrderedDict\n",
                "\n",
                "fav_languages = OrderedDict() #we keep track of the responses\n",
                "\n",
                "fav_languages['kk']=['python','ruby']\n",
                "fav_languages['sarah']=['c']\n",
                "fav_languages['edward']=['go','java']\n",
                "fav_languages['phil']=['python','haskell']\n",
                "\n",
                "for name, langs in fav_languages.items():\n",
                "    print(name + \":\")\n",
                "    for language in langs:\n",
                "        print(\"_\" + language)\n"
            ]
        },
        {
            "cell_type": "markdown",
            "metadata": {},
            "source": [
                "#### ```range()``` function starts at 0 by default, and stops one number below the number passed to it. You can use the ```list()``` function to efficiently generate a large list of numbers."
            ]
        },
        {
            "cell_type": "code",
            "execution_count": null,
            "metadata": {},
            "outputs": [],
            "source": [
                "for number in range(0,5):\n",
                "    print (number, end= ' ')\n",
                "\n",
                "numbers = list(range(1,6))\n",
                "print(numbers)"
            ]
        },
        {
            "cell_type": "markdown",
            "metadata": {},
            "source": [
                "# **Iteration / Looping**"
            ]
        },
        {
            "cell_type": "markdown",
            "metadata": {},
            "source": [
                "## ***if statement***\n",
                "Several kinds of ```if``` statements exist. Your choice of which to\n",
                "use depends on the number of conditions you need to test.\n",
                "You can have as many ```elif``` blocks as you need, and the\n",
                "else block is always optional."
            ]
        },
        {
            "cell_type": "code",
            "execution_count": null,
            "metadata": {},
            "outputs": [],
            "source": [
                "# simple if statement\n",
                "user_age = 30\n",
                "if user_age >= 20:\n",
                "    print(\"You are old!\")"
            ]
        },
        {
            "cell_type": "code",
            "execution_count": null,
            "metadata": {},
            "outputs": [],
            "source": [
                "# simple if-else statement\n",
                "user_age = input(\"enter your age : \")\n",
                "if user_age < str(18):\n",
                "    print(\"you are under age\")\n",
                "else:\n",
                "    print(\"it is okay you can vote\")"
            ]
        },
        {
            "cell_type": "code",
            "execution_count": null,
            "metadata": {},
            "outputs": [],
            "source": [
                "# the if-elif-else chain\n",
                "age = input(\"please enter your name to know your price: \")\n",
                "if age < str(10):\n",
                "    print(\"you are under 10, it is free for you\")\n",
                "elif age > str(10) and age < str(18):\n",
                "    print(\"you are a youth, it is 20$\")\n",
                "else:\n",
                "    print(\"sorry you are not part of the selected categories, thanks!\")\n"
            ]
        },
        {
            "cell_type": "markdown",
            "metadata": {},
            "source": [
                "## ***Conditional tests with lists***\n",
                "You can easily test whether a certain value is in a list. You\n",
                "can also test whether a list is empty before trying to loop\n",
                "through the list"
            ]
        },
        {
            "cell_type": "code",
            "execution_count": null,
            "metadata": {},
            "outputs": [],
            "source": [
                "# testing if a value is in the List\n",
                "players = ['aaa','bbb','ccc','ddd']\n",
                "print('aaa' in players)\n",
                "print('bb' in players)"
            ]
        },
        {
            "cell_type": "code",
            "execution_count": null,
            "metadata": {},
            "outputs": [],
            "source": [
                "# testing if a value is not in a list\n",
                "banned_users = ['ann','paul','marc', 'kevin']\n",
                "user_name = input(\"enter your username : \")\n",
                "if user_name not in banned_users:\n",
                "    print(\"you can play\")\n",
                "else:\n",
                "    print(\"sorry you are not authorized\")"
            ]
        },
        {
            "cell_type": "code",
            "execution_count": null,
            "metadata": {},
            "outputs": [],
            "source": [
                "# checking if a list is empty\n",
                "players = []\n",
                "if players:\n",
                "    for player in players:\n",
                "        print(\"player: \", player.title())\n",
                "else:\n",
                "    print(\"we have no player\")"
            ]
        },
        {
            "cell_type": "markdown",
            "metadata": {},
            "source": [
                "## ***While loop***\n",
                "The while loop exists in almost all programming languages and is used to iterative\n",
                "(or repeat) one or more code statements as long as the test condition (expression) is\n",
                "True. This iteration construct is usually used when the number of times we need to\n",
                "repeat the block of code to execute is not known.\n",
                "```python\n",
                "while(condition):\n",
                "/*\n",
                "    statement\n",
                "*/\n"
            ]
        },
        {
            "cell_type": "code",
            "execution_count": null,
            "metadata": {},
            "outputs": [],
            "source": [
                "# Simple while loop example\n",
                "count = 0\n",
                "print('Starting')\n",
                "while count < 10:\n",
                "    print(count, ' ', end='') # part of the while loop\n",
                "    count += 1 # also part of the while loop\n",
                "print() # not part of the while loop\n",
                "print('Done')"
            ]
        },
        {
            "cell_type": "code",
            "execution_count": null,
            "metadata": {},
            "outputs": [],
            "source": [
                "# letting the user choose when to quit\n",
                "prompt = \"Tell me something and I will \"\n",
                "prompt += \"repeat it back to you.\"\n",
                "prompt += \"\\nEnter 'quit' to end the program.\\n \"\n",
                "message = \" \"\n",
                "while  message != 'quit':\n",
                "    message = input(prompt)\n",
                "    if message == 'quit':\n",
                "        print(message)"
            ]
        },
        {
            "cell_type": "code",
            "execution_count": null,
            "metadata": {},
            "outputs": [],
            "source": [
                "# using a flag\n",
                "prompt = \"Tell me something and I will \"\n",
                "prompt += \"repeat it back to you.\"\n",
                "prompt += \"\\nEnter 'quit' to end the program.\\n \"\n",
                "\n",
                "active = True\n",
                "while  active:\n",
                "    message = input(prompt)\n",
                "\n",
                "    if message == 'quit':\n",
                "        active = False\n",
                "    else:\n",
                "        print(message)"
            ]
        },
        {
            "cell_type": "markdown",
            "metadata": {},
            "source": [
                "## ***Avoiding Infinite Loops***\n",
                "Every while loop needs a way to stop running so it won't\n",
                "continue to run forever. If there's no way for the condition to\n",
                "become False, the loop will never stop running."
            ]
        },
        {
            "cell_type": "code",
            "execution_count": null,
            "metadata": {},
            "outputs": [],
            "source": [
                "# An infinite loop\n",
                "\"\"\"while True:\n",
                "    print(\"a\")\n",
                "\"\"\""
            ]
        },
        {
            "cell_type": "markdown",
            "metadata": {},
            "source": [
                "## ***For loop***\n",
                "In many cases we know how many times we want to iterative over one or more\n",
                "statements (as indeed we did in the previous section). Although the ```while``` loop\n",
                "can be used for such situations, the ```for``` loop is a far more concise way to do this. It\n",
                "typically also clearer to another programmer that the loop must iterate for a specific\n",
                "number of iterations.\n",
                "The format of the Python for loop when using a ```range``` of values is\n",
                "```python\n",
                "for <variable-name> in range(...):\n",
                "statement\n",
                "statement\n",
                "```"
            ]
        },
        {
            "cell_type": "code",
            "execution_count": null,
            "metadata": {},
            "outputs": [],
            "source": [
                "# Loop over a set of values in a range\n",
                "print('Print out values in a range')\n",
                "for i in range(0, 10):\n",
                "    print(i, ' ', end='')\n",
                "print()\n",
                "print('Done')\n",
                "\n",
                "# now let's say yoou want to increment the count by 2."
            ]
        },
        {
            "cell_type": "markdown",
            "metadata": {},
            "source": [
                "## ***Break Loop Statement***\n",
                "Python allows programmers to decide whether they want to break out of a loop\n",
                "early or not (whether we are using a ```for``` loop or a ```while``` loop). This is done using\n",
                "the ```break``` statement. The ```break``` statement, when executed, will terminate the current loop and jump\n",
                "the program to the first line after the loop."
            ]
        },
        {
            "cell_type": "code",
            "execution_count": null,
            "metadata": {},
            "outputs": [],
            "source": [
                "print('Only print code if all iterations completed')\n",
                "num = int(input('Enter a number to check for: '))\n",
                "for i in range(0, 6):\n",
                "    if i == num:\n",
                "        break\n",
                "    print(i, ' ', end='')\n",
                "print('Done')\n",
                "# If we run this and enter the value 7 (which is outside of the range) then all the\n",
                "# values in the loop should be printed\n",
                "# However, if we enter the value 3 then only the values 0, 1 and 2 will be printed\n",
                "# out before the loop breaks"
            ]
        },
        {
            "cell_type": "markdown",
            "metadata": {},
            "source": [
                "## ***continue Loop***\n",
                "The ```continue``` statement also affects the flow of control within the looping\n",
                "constructs ```for``` and ```while```. However, it does not terminate the whole loop; rather it\n",
                "only terminates the current iteration round the loop. This allows you to skip over\n",
                "part of a loop’s iteration for a particular value, but then to continue with the\n",
                "remaining values in the sequence."
            ]
        },
        {
            "cell_type": "code",
            "execution_count": null,
            "metadata": {},
            "outputs": [],
            "source": [
                "for i in range(0, 10):\n",
                "    print(i, ' ', end='')\n",
                "    if i % 2 == 1:\n",
                "        continue\n",
                "    print('hey its an even number')\n",
                "    print('we love even numbers')\n",
                "print('Done')\n",
                "# we print the message only for even numbers"
            ]
        },
        {
            "cell_type": "markdown",
            "metadata": {},
            "source": [
                "# ***Dice rolling Game:***\n",
                "In this game we will continue to roll a pair\n",
                "of dice until the user indicates that they do not want to roll again (we use the\n",
                "```random module```)."
            ]
        },
        {
            "cell_type": "code",
            "execution_count": null,
            "metadata": {},
            "outputs": [],
            "source": [
                "import random\n",
                "\n",
                "MIN = 1\n",
                "MAX = 6\n",
                "roll_again = 'y'\n",
                "\n",
                "while roll_again == 'y':\n",
                "    print('Rolling the dices...')\n",
                "    print('The values are....')\n",
                "    first_dice = random.randint(MIN, MAX)\n",
                "    print(first_dice)\n",
                "    second_dice = random.randint(MIN, MAX)\n",
                "    print(second_dice)\n",
                "    roll_again = input('Roll the dices again? (y / n): ')"
            ]
        },
        {
            "cell_type": "markdown",
            "metadata": {},
            "source": [
                "# ***Exercise 4***\n",
                "Write a program that asks the user his visited places and allow the user to quit the program when 'quit' is entered, and Return all\n",
                "the places entered by the user.\n",
                "__hint__: use ```list, while loop and break statement.```"
            ]
        },
        {
            "cell_type": "code",
            "execution_count": null,
            "metadata": {},
            "outputs": [],
            "source": [
                "'''Your code here'''"
            ]
        },
        {
            "cell_type": "markdown",
            "metadata": {},
            "source": [
                "# ***Exercise 5***\n",
                "Write a program that can find the factorial of any given number. For example, find\n",
                "the factorial of the number 5 (often written as 5!) which is 1 * 2 * 3 * 4 * 5 and\n",
                "equals 120.\n",
                "The factorial is not defined for negative numbers and the factorial of Zero is 1;\n",
                "that is 0! = 1.\n",
                "Your program should take as input an integer from the user (you can reuse your\n",
                "logic from the last chapter to verify that they have entered a positive integer value\n",
                "using isnumeric()).\n",
                "You should\n",
                "1. If the number is less than Zero return with an error message.\n",
                "2. Check to see if the number is Zero—if it is then the answer is 1—print this out.\n",
                "3. Otherwise use a loop to generate the result and print it out"
            ]
        },
        {
            "cell_type": "code",
            "execution_count": null,
            "metadata": {},
            "outputs": [],
            "source": [
                "''' Your Solution here'''\n"
            ]
        },
        {
            "cell_type": "markdown",
            "metadata": {},
            "source": [
                "# ***Functions***\n",
                "Functions are named blocks of code designed to do\n",
                "one specific job. Functions allow you to write code\n",
                "once that can then be run whenever you need to\n",
                "accomplish the same task. Functions can take in the\n",
                "information they need, and return the information they\n",
                "generate. Using functions effectively makes your\n",
                "programs easier to write, read, test, and fix\n",
                "```python\n",
                "def function_name(parameter list):\n",
                "\"\"\"docstring\"\"\"\n",
                "statement\n",
                "statement(s)\n",
                "```"
            ]
        },
        {
            "cell_type": "code",
            "execution_count": null,
            "metadata": {},
            "outputs": [],
            "source": [
                "# making a function\n",
                "def greet_user():\n",
                "    '''Display a simple greeting'''\n",
                "    print(\"hello!\")\n",
                "greet_user()"
            ]
        },
        {
            "cell_type": "markdown",
            "metadata": {},
            "source": [
                "## ***Parsing information to a function***\n",
                "Information that's passed to a function is called an\n",
                "argument; information that's received by a function is called\n",
                "a parameter. Arguments are included in parentheses after\n",
                "the function's name, and parameters are listed in\n",
                "parentheses in the function's definition"
            ]
        },
        {
            "cell_type": "code",
            "execution_count": null,
            "metadata": {},
            "outputs": [],
            "source": [
                "# parsing a single argumment\n",
                "def greet_user(username):\n",
                "    print(\"hello \" + username)\n",
                "\n",
                "greet_user(\"franck\")\n",
                "greet_user(\"armand\")"
            ]
        },
        {
            "cell_type": "markdown",
            "metadata": {},
            "source": [
                "## ***positional and keyword arguments***\n",
                "The two main kinds of arguments are positional and\n",
                "keyword arguments. When you use positional arguments\n",
                "Python matches the first argument in the function call with\n",
                "the first parameter in the function definition, and so forth.\n",
                "With keyword arguments, you specify which parameter\n",
                "each argument should be assigned to in the function call.\n",
                "When you use keyword arguments, the order of the\n",
                "arguments doesn't matter"
            ]
        },
        {
            "cell_type": "code",
            "execution_count": null,
            "metadata": {},
            "outputs": [],
            "source": [
                "# using positional arguments\n",
                "def self_intro(name, major,age):\n",
                "    print(\"\\nmy name is \",name)\n",
                "    print(\"\\nI major in \",major)\n",
                "    print(\"\\nI am \" + str(age) + \" Years old !\")\n",
                "    print(\"\\nThank You.\")\n",
                "\n",
                "self_intro(\"paul\",\"Computer Science\",23)"
            ]
        },
        {
            "cell_type": "code",
            "execution_count": null,
            "metadata": {},
            "outputs": [],
            "source": [
                "# keyword arguments\n",
                "def self_intro(name, major,age):\n",
                "    print(\"\\nmy name is \",name)\n",
                "    print(\"\\nI major in \",major)\n",
                "    print(\"\\nI am \" + str(age) + \" Years old !\")\n",
                "    print(\"\\nThank You.\")\n",
                "\n",
                "self_intro(age=20, name='franck',major='software eng')"
            ]
        },
        {
            "cell_type": "code",
            "execution_count": null,
            "metadata": {},
            "outputs": [],
            "source": [
                "# using a default value\n",
                "# You can provide a default value for a parameter. When\n",
                "# function calls omit this argument the default value will be\n",
                "# used. Parameters with default values must be listed after\n",
                "# parameters without default values in the function's definition\n",
                "# so positional arguments can still work correctly.\n",
                "\n",
                "def fav_car(name, color='black'): #black is the default value\n",
                "    print(\"my favorite car is a\",color, name)\n",
                "\n",
                "fav_car('Benz','red')\n",
                "fav_car('Range rover')\n",
                "fav_car('Taxi')"
            ]
        },
        {
            "cell_type": "code",
            "execution_count": null,
            "metadata": {},
            "outputs": [],
            "source": [
                "# Usine none to make an argument optional\n",
                "def fav_pets(animal, name=None):\n",
                "    print(\"I have a\",animal)\n",
                "    if name:\n",
                "        print(\"its name is\",name)\n",
                "\n",
                "fav_pets('hamster','poupy')\n",
                "fav_pets('cat')"
            ]
        },
        {
            "cell_type": "markdown",
            "metadata": {},
            "source": [
                "## ***return values***\n",
                "A function can return a value or a set of values. When a\n",
                "function returns a value, the calling line must provide a\n",
                "variable in which to store the return value. A function stops\n",
                "running when it reaches a return statement"
            ]
        },
        {
            "cell_type": "code",
            "execution_count": null,
            "metadata": {},
            "outputs": [],
            "source": [
                "# returning a single Value\n",
                "def get_full_name(first,last):\n",
                "    full_name = first + ' ' + last\n",
                "    return full_name.title()\n",
                "\n",
                "person = get_full_name('coder','225')\n",
                "print(person)"
            ]
        },
        {
            "cell_type": "code",
            "execution_count": null,
            "metadata": {},
            "outputs": [],
            "source": [
                "# returning a dictionary\n",
                "def bluid_person(first,second,age):\n",
                "    # bluid the dictionary person\n",
                "    person = {'first_name':first,'second_name':second, 'age_person':age}\n",
                "    return person\n",
                "\n",
                "user = bluid_person('paul','jimi',12)\n",
                "print(user)"
            ]
        },
        {
            "cell_type": "markdown",
            "metadata": {},
            "source": [
                "# ***Exercise 6***\n",
                "For this chapter the exercises involve the number_guess_game you created in\n",
                "the last chapter:\n",
                "Take the number guess game and break it up into a number of functions. There is\n",
                "not necessarily a right or wrong way to do this; look for functions that are meaningful to you within the code, for example:\n",
                "1. You could create a function to obtain input from the user.\n",
                "2. You could create another function that will implement the main game playing\n",
                "loop.\n",
                "3. You could also provide a function that will print out a message indicating if the\n",
                "player won or not.\n",
                "4. You could create a function to print a welcome message when the game starts\n",
                "up."
            ]
        },
        {
            "cell_type": "code",
            "execution_count": null,
            "metadata": {},
            "outputs": [],
            "source": [
                "''' Your code here'''"
            ]
        },
        {
            "cell_type": "markdown",
            "metadata": {},
            "source": [
                "# ***Challenge 4***\n",
                "Generate a random number between 1 and 9 (including 1 and 9). Ask the user to guess the number, then tell them whether they guessed too low, too high, or exactly right.\n",
                "\n",
                "Extras:\n",
                "\n",
                "* Keep the game going until the user types “exit”\n",
                "* Keep track of how many guesses the user has taken, and when the game ends, print this out."
            ]
        },
        {
            "cell_type": "code",
            "execution_count": null,
            "metadata": {},
            "outputs": [],
            "source": []
        },
        {
            "cell_type": "markdown",
            "metadata": {},
            "source": [
                "# ***Classes***\n",
                "Classes are the foundation of object-oriented\n",
                "programming. Classes represent real-world things\n",
                "you want to model in your programs: for example\n",
                "dogs, cars, and robots. You use a class to make\n",
                "objects, which are specific instances of dogs, cars,\n",
                "and robots. A class defines the general behavior that\n",
                "a whole category of objects can have, and the\n",
                "information that can be associated with those objects.\n",
                "Classes can inherit from each other – you can\n",
                "write a class that extends the functionality of an\n",
                "existing class. This allows you to code efficiently for a\n",
                "wide variety of situations"
            ]
        },
        {
            "cell_type": "code",
            "execution_count": null,
            "metadata": {},
            "outputs": [],
            "source": [
                "#Creating a class\n",
                "class Pet(object):\n",
                "    def __init__(self, name, species, color):\n",
                "        self.name = name\n",
                "        self.species = species\n",
                "        self.color = color\n",
                "\n",
                "# creating an instance of the class\n",
                "my_pet = Pet(name = 'cathy', species = 'cat', color = 'black')\n",
                "print(my_pet) # in order to correct that we can use the magic function __str__\n",
                "print(my_pet.name)\n"
            ]
        },
        {
            "cell_type": "code",
            "execution_count": null,
            "metadata": {},
            "outputs": [],
            "source": [
                "class Pet(object):\n",
                "    def __init__(self, name, species, color):\n",
                "        self.name = name\n",
                "        self.species = species\n",
                "        self.color = color\n",
                "\n",
                "    def __str__(self):\n",
                "        return f\"{self.name} is my {self.species} and {self.color} is her color\"\n",
                "\n",
                "my_pet = Pet(name = \"Cathy\", species = \"cat\", color = \"black\")\n",
                "print(my_pet)"
            ]
        },
        {
            "cell_type": "code",
            "execution_count": null,
            "metadata": {},
            "outputs": [],
            "source": [
                "# Object functions\n",
                "class Car(object):\n",
                "    def __init__(self, type, brand, year):\n",
                "        self.type = type\n",
                "        self.brand = brand\n",
                "        self.year = year\n",
                "\n",
                "    def __str__(self):\n",
                "        return f\"I drive a {self.type} from {self.brand} that came out in {self.year}\"\n",
                "\n",
                "    def change_type(self, new_type):\n",
                "        self.type = new_type\n",
                "\n",
                "my_car = Car(type = \"Fuel\", brand = \"BMW\", year = \"2017\")\n",
                "print(my_car)\n",
                "\n",
                "my_car.change_type(new_type = \"Electric\")\n",
                "print(my_car)"
            ]
        },
        {
            "cell_type": "code",
            "execution_count": null,
            "metadata": {},
            "outputs": [],
            "source": [
                "# class inheritance\n",
                "\n",
                "class Pet(object):\n",
                "    def __init__(self, name, species, color):\n",
                "        self.name = name\n",
                "        self.species = species\n",
                "        self.color = color\n",
                "\n",
                "    def __str__(self):\n",
                "        return f\"{self.name} is my {self.species} and {self.color} is her color\"\n",
                "\n",
                "    def change_name(self, new_name):\n",
                "        self.name = new_name\n",
                "\n",
                "class Dog(Pet):\n",
                "    def __init__(self, name, breed):\n",
                "        super().__init__(species = \"dog\", name = name, color = \"white\", )\n",
                "        self.breed = breed\n",
                "\n",
                "    def __str__(self):\n",
                "        return f\"my {self.species} is of type {self.breed} and his name is {self.name} is color is {self.color}\"\n",
                "\n",
                "my_dog = Dog(breed = \"pitbull\", name = \"doggy\")\n",
                "print(my_dog)\n",
                "\n",
                "my_dog.change_name(\"Paulo\")\n",
                "print(my_dog)"
            ]
        },
        {
            "cell_type": "code",
            "execution_count": null,
            "metadata": {},
            "outputs": [],
            "source": [
                "# methods\n",
                "\n",
                "class Pet(object):\n",
                "    def __init__(self, name, species, color):\n",
                "        self.name = name\n",
                "        self.species = species\n",
                "        self.color = color\n",
                "\n",
                "    def __str__(self):\n",
                "        return f\"{self.name} is my {self.species} and {self.color} is her color\"\n",
                "\n",
                "    def change_name(self, new_name):\n",
                "        self.name = new_name\n",
                "\n",
                "class Dog(Pet):\n",
                "    def __init__(self, name, breed):\n",
                "        super().__init__(species = \"dog\", name = name, color = \"white\")\n",
                "        self.breed = breed\n",
                "\n",
                "    def __str__(self):\n",
                "        return f\"my {self.species} is of type {self.breed} and his name is {self.name} is color is {self.color}\"\n",
                "\n",
                "    @classmethod\n",
                "    def from_dict(cls, d):\n",
                "        return cls(name=d[\"name\"], breed=d[\"breed\"])\n",
                "\n",
                "    @staticmethod\n",
                "    def is_cute(breed):\n",
                "        return True  # all animals are cute!\n",
                "\n",
                "d = {\"name\": \"Cassie\", \"breed\": \"Border Collie\"}\n",
                "cassie = Dog.from_dict(d=d)\n",
                "print(cassie)"
            ]
        },
        {
            "cell_type": "markdown",
            "metadata": {},
            "source": [
                "# ***Conclusion***"
            ]
        },
        {
            "cell_type": "markdown",
            "metadata": {},
            "source": [
                "Good job, there you go, you can call yourself a Python wizard ready to take any python challenge. "
            ]
        }
    ],
    "metadata": {
        "interpreter": {
            "hash": "28dbef228a6a3bcf719825df92d17188a17f4a6e89f281f9f8d187d8be9f5185"
        },
        "kernelspec": {
            "display_name": "Python 3.7.7 64-bit ('myenv': conda)",
            "name": "python3"
        },
        "language_info": {
            "codemirror_mode": {
                "name": "ipython",
                "version": 3
            },
            "file_extension": ".py",
            "mimetype": "text/x-python",
            "name": "python",
            "nbconvert_exporter": "python",
            "pygments_lexer": "ipython3",
            "version": "3.7.7"
        },
        "orig_nbformat": 4
    },
    "nbformat": 4,
    "nbformat_minor": 2
}
