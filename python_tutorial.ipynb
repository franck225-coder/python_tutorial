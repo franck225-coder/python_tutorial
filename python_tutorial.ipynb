{
    "cells": [
        {
            "cell_type": "markdown",
            "source": [
                "## The Zen of Python\r\n",
                "\"The Zen of Python\" contains 20 guidances that have influence the design of python.  readable, and clean code. Next time you You are coding, try following these guidelines to write beautifully and make your code more reusable."
            ],
            "metadata": {}
        },
        {
            "cell_type": "code",
            "execution_count": null,
            "source": [
                "import this"
            ],
            "outputs": [],
            "metadata": {}
        },
        {
            "cell_type": "markdown",
            "source": [
                "# variables and Strings\r\n",
                "Variables are used to store values. A string is a series of characters, surrounded by single or double quotes."
            ],
            "metadata": {}
        },
        {
            "cell_type": "code",
            "execution_count": null,
            "source": [
                "# Hello world\r\n",
                "print(\"Hello world\")\r\n",
                "\r\n",
                "# Hello world with a variable\r\n",
                "text = \"Hello world\"\r\n",
                "print(text)\r\n",
                "\r\n",
                "# Concatenation (Combining strings)\r\n",
                "name = \"Coder_225\"\r\n",
                "job = \"Programmer\"\r\n",
                "intro = name + \" \" + \"I am a \" + job\r\n",
                "## using format option in a simple string\r\n",
                "print(f\"my name is {name} I am a {job}\")\r\n",
                "print(intro)"
            ],
            "outputs": [],
            "metadata": {}
        },
        {
            "cell_type": "markdown",
            "source": [
                "# list\r\n",
                "A list stores a series of items in a particular order. You access items using an index, or within a loop."
            ],
            "metadata": {}
        },
        {
            "cell_type": "code",
            "execution_count": null,
            "source": [
                "# make a list\r\n",
                "colors = [\"bleu\", \"red\", \"yellow\", \"green\", \"orange\"]\r\n",
                "\r\n",
                "# Get first item in a list\r\n",
                "first_item = colors[0]\r\n",
                "#first_item\r\n",
                "\r\n",
                "# Get the last elements in the list\r\n",
                "last_elements = colors[-1]\r\n",
                "\r\n",
                "# Looping through a list\r\n",
                "for color in colors:\r\n",
                "    print(color)\r\n",
                "\r\n",
                "# adding item to the list\r\n",
                "colors.insert(1,\"black\") # This method is for adding an element at a specific index or position\r\n",
                "colors.append(\"purple\") # This method is for adding an element at the end of the list\r\n",
                "\r\n",
                "# appending elements to an empty list\r\n",
                "sqareNumbers = []\r\n",
                "for number in range(1,10):\r\n",
                "    sqareNumbers.append(number**2)\r\n",
                "\r\n",
                "# List comprehension\r\n",
                "sqareNum = [number**2 for number in range(1,10)]\r\n",
                "\r\n",
                "# Slicing a List in python\r\n",
                "randElements = [\"1\",\"apple\",\"house\",\"-5\", \"100\", \"50\", \"boat\"]\r\n",
                "first_two = randElements[:2]\r\n",
                "starting_from_two = randElements[2:]\r\n",
                "\r\n",
                "# Copy a list\r\n",
                "copyOfRandElemts = randElements[:]"
            ],
            "outputs": [],
            "metadata": {}
        },
        {
            "cell_type": "markdown",
            "source": [
                "# Tuples\r\n",
                "Tuples are similar to lists, but the items in a tuple can't be modified."
            ],
            "metadata": {}
        },
        {
            "cell_type": "code",
            "execution_count": null,
            "source": [
                "# Making a Tuple\r\n",
                "dimensions = (25, -3, 5)\r\n",
                "dimension = dimensions[0] # fist element in the tuple\r\n",
                "dimension = dimensions[-1] # Last element in the tuple"
            ],
            "outputs": [],
            "metadata": {}
        },
        {
            "cell_type": "markdown",
            "source": [
                "# Exercises\r\n",
                "We are going to try out some of the string related operations.\r\n",
                "1. Explore replacing a string\r\n",
                "Create a string with words separated by ',' and replace the commas with spaces;\r\n",
                "for example replace all the commas in 'Denyse,Marie,Smith,21,London,UK'\r\n",
                "with spaces. Now print out the resulting string.\r\n",
                "2. Handle user input\r\n",
                "The aim of this exercise is to write a program to ask the user for two strings and\r\n",
                "concatenate them together, with a space between them and store them into a new\r\n",
                "variable called new_string.\r\n",
                "Next:\r\n",
                "• Print out the value of new_string.\r\n",
                "• Print out how long the contents of new_string is.\r\n",
                "• Now convert the contents of new_string to all upper case.\r\n",
                "• Now check to see if new_string contains the string 'Albus' as a substring."
            ],
            "metadata": {}
        },
        {
            "cell_type": "code",
            "execution_count": 20,
            "source": [
                "# 1\r\n",
                "msg =\"Denyse,Marie,Smith,21,London,UK\"\r\n",
                "msg_edit = msg.replace(\",\", \" \")\r\n",
                "print(msg_edit)\r\n",
                "\r\n",
                "# 2\r\n",
                "first_name = input(\"first name: \\n\")\r\n",
                "last_name = input(\"last name: \\n\")\r\n",
                "new_string = first_name + \" \" + last_name\r\n",
                "print(new_string)\r\n",
                "length_new_string = len(new_string)\r\n",
                "new_string_upper = new_string.upper()\r\n",
                "new_string_find = new_string.find(\"Albus\")\r\n",
                "\r\n",
                "print(new_string)\r\n",
                "print(\"The length of the string is: \",length_new_string)\r\n",
                "print(\"The entered string in uppercase is: \",new_string_upper)\r\n",
                "print(\"Does new_string contains the string 'Albus' as a substring: \",new_string_find)\r\n"
            ],
            "outputs": [
                {
                    "output_type": "stream",
                    "name": "stdout",
                    "text": [
                        "Denyse Marie Smith 21 London UK\n",
                        "Franck armand Albus mark Paul\n",
                        "The length of the:  29\n",
                        "The entered string in uppercase is:  FRANCK ARMAND ALBUS MARK PAUL\n",
                        "Does new_string contains the string 'Albus' as a substring:  14\n"
                    ]
                }
            ],
            "metadata": {}
        },
        {
            "cell_type": "code",
            "execution_count": null,
            "source": [],
            "outputs": [],
            "metadata": {}
        }
    ],
    "metadata": {
        "orig_nbformat": 4,
        "language_info": {
            "name": "python",
            "version": "3.7.7",
            "mimetype": "text/x-python",
            "codemirror_mode": {
                "name": "ipython",
                "version": 3
            },
            "pygments_lexer": "ipython3",
            "nbconvert_exporter": "python",
            "file_extension": ".py"
        },
        "kernelspec": {
            "name": "python3",
            "display_name": "Python 3.7.7 64-bit ('myenv': conda)"
        },
        "interpreter": {
            "hash": "28dbef228a6a3bcf719825df92d17188a17f4a6e89f281f9f8d187d8be9f5185"
        }
    },
    "nbformat": 4,
    "nbformat_minor": 2
}