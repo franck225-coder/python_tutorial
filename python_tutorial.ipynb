{
    "cells": [
        {
            "cell_type": "markdown",
            "source": [
                "# **The Zen of Python**\r\n",
                "\"The Zen of Python\" contains 20 guidances that have influence the design of python.  readable, and clean code. Next time you You are coding, try following these guidelines to write beautifully and make your code more reusable."
            ],
            "metadata": {}
        },
        {
            "cell_type": "code",
            "execution_count": null,
            "source": [
                "import this"
            ],
            "outputs": [],
            "metadata": {}
        },
        {
            "cell_type": "markdown",
            "source": [
                "# **Hello World in Python**\r\n"
            ],
            "metadata": {}
        },
        {
            "cell_type": "code",
            "execution_count": null,
            "source": [
                "print('Hello, world')"
            ],
            "outputs": [],
            "metadata": {}
        },
        {
            "cell_type": "markdown",
            "source": [
                "# **User input**\r\n",
                "In order to get input from user we use the keyword ```input()```"
            ],
            "metadata": {}
        },
        {
            "cell_type": "code",
            "execution_count": null,
            "source": [
                "# asking the user name and printing an Hello Text\r\n",
                "user_name = input('what\\'s your name: \\n')\r\n",
                "message = 'Hello ' + user_name\r\n",
                "print(message)\r\n",
                "\r\n",
                "# modify the previous code to ask for user's age\r\n",
                "# and print : \"Hello xxxx you are 24\""
            ],
            "outputs": [],
            "metadata": {}
        },
        {
            "cell_type": "code",
            "execution_count": null,
            "source": [
                "\"\"\"Your code here\"\"\"\r\n"
            ],
            "outputs": [],
            "metadata": {}
        },
        {
            "cell_type": "markdown",
            "source": [
                "# **variables and Strings**\r\n",
                "Variables are used to store values. A string is a series of characters, surrounded by single or double quotes.\r\n",
                "It is a called a variable because the value it references in memory can vary during the lifetime of the program."
            ],
            "metadata": {}
        },
        {
            "cell_type": "code",
            "execution_count": null,
            "source": [
                "# we can modify our Hello World program to ask the user for the\r\n",
                "# name of their best friend and print out a welcome message to that best friend. If we\r\n",
                "# want to, we can reuse the variable to hold the name of that best friend. For example:\r\n",
                "\r\n",
                "print('Hello, world')\r\n",
                "name = input('Enter your name: ')\r\n",
                "print('Hello', name)\r\n",
                "name = input('What is the name of your best friend: ')\r\n",
                "print('Hello Best Friend', name)\r\n",
                "\r\n",
                "# Hello world with a variable\r\n",
                "text = \"Hello world\"\r\n",
                "print(text)\r\n",
                "\r\n",
                "# Concatenation (Combining strings)\r\n",
                "name = \"Coder_225\"\r\n",
                "job = \"Programmer\"\r\n",
                "intro = name + \" \" + \"I am a \" + job\r\n",
                "## using format option in a simple string\r\n",
                "print(f\"my name is {name} I am a {job}\")\r\n",
                "print(intro)"
            ],
            "outputs": [],
            "metadata": {}
        },
        {
            "cell_type": "markdown",
            "source": [
                "# **Naming Conventions**\r\n",
                "***user_name*** and ***my_variable***. Both these variable names are formed of a set of characters with an underbar between the 'words' in the variable name.\r\n",
                "Both these variable names highlight a very widely used naming convention in Python, which is that variable names should: <br>\r\n",
                "* be all lowercase,\r\n",
                "* be in general more descriptive than variable names such as a or b (although\r\n",
                "there are some exceptions such as the use of variables i and j in looping\r\n",
                "constructs).\r\n",
                "* with individual words separated by underscores as necessary to improve\r\n",
                "readability.<br>\r\n",
                "This last point is very important as in Python (and most computer programming\r\n",
                "languages) spaces are treated as separators which can be used to indicate where one\r\n",
                "thing ends and another starts. Thus it is not possible to define a variable name such\r\n",
                "as:<br>\r\n",
                "* user name\r\n",
                "As the space is treated by Python as a separator and thus Python thinks you are\r\n",
                "defining two things ***'user'*** and ***'name'***.\r\n",
                "When you create your own variables, you should try to name then following the\r\n",
                "Python accepted style thus name such as:\r\n",
                "* my_name, your_name, user_name, account_name\r\n",
                "* count, total_number_of_users, percentage_passed, pass_rate\r\n",
                "* where_we_live, house_number,\r\n",
                "* is_okay, is_correct, status_flag <br>\r\n",
                "are all acceptable but\r\n",
                "* A, Aaaaa, aaAAAaa\r\n",
                "* Myname, myName, MyName or MYName\r\n",
                "* WHEREWELIVE <br>\r\n",
                "<p>Do not meet the accepted conventions.However, it is worth mentioning that these are merely commonly adhered to conventions and even Python itself does not always comply with these conventions.Thus if you define a variable name that does not conform to the convention Python will not complain.</p>"
            ],
            "metadata": {}
        },
        {
            "cell_type": "markdown",
            "source": [
                "# **Online Resources**\r\n",
                "See the Python Standard Library documentation for:\r\n",
                "- [Python Library](https://docs.python.org/3/reference/simple_stmts.html) For information on statements in Python."
            ],
            "metadata": {}
        },
        {
            "cell_type": "markdown",
            "source": [
                "# **Exercices 1**\r\n",
                "\r\n",
                "1. If you have not yet run the Hello World program, then do so now. To run your\r\n",
                "program you have several options.\r\n",
                "2. Now ensure that you are comfortable with what the program actually does. Try\r\n",
                "commenting out some lines—what happens; is that the behaviour you expected?\r\n",
                "check that you are happy with what it does.\r\n",
                "3. Once you have done that, modify the program with your own prompts to the\r\n",
                "user (the string argument given to the input function). Make sure that each string\r\n",
                "is surrounded by the single quote characters (''); remember these denote the start\r\n",
                "and end of a string.\r\n",
                "4. Try creating your own variables and storing values into those instead of the\r\n",
                "variable user_name.\r\n",
                "5. Add a print() function to the program with your own prompt.\r\n",
                "6. Include an assignment that will add two numbers together (for example 4 + 5)\r\n",
                "and then assign the result to a variable.\r\n",
                "7. Now print out that variables value once it has been assigned a value.\r\n",
                "8. Make sure you can run the program after each of the above changes. If there is\r\n",
                "an error reported attempt to fix that issue before moving on."
            ],
            "metadata": {}
        },
        {
            "cell_type": "markdown",
            "source": [
                "# **Python Strings**\r\n",
                "In Python a string is a series, or sequence, of characters in order. In this defi-\r\n",
                "nition a character is anything you can type on the keyboard in one keystroke, such\r\n",
                "as a letter 'a', 'b', 'c' or a number '1', '2', '3' or a special characters such as '\\', '[', '$' etc.\r\n",
                "a space is also a character ' '. Example: of strings<br>\r\n",
                "- 'Hello'\r\n",
                "- \"Hello\"\r\n",
                "- \"Hey, you how is Python\"\r\n",
                "- 'I am Hungry...'"
            ],
            "metadata": {}
        },
        {
            "cell_type": "markdown",
            "source": [
                "# **What Can You Do with Strings?**\r\n",
                "<p>What operations or functions are their available or built-in that you can use to work with strings. The answer is that there are very many. Here are some of the Operations.</p>"
            ],
            "metadata": {}
        },
        {
            "cell_type": "markdown",
            "source": [
                "### ***String Concatenation***:\r\n",
                "You can concatenate two strings together using the '+' operator (an operator is an\r\n",
                "operation or behaviour that can be applied to the types involved). That is you can\r\n",
                "take one string and add it to another string to create a new third string:"
            ],
            "metadata": {}
        },
        {
            "cell_type": "code",
            "execution_count": null,
            "source": [
                "# Concatenation (Combining strings)\r\n",
                "name = \"Coder_225\"\r\n",
                "job = \"Programmer\"\r\n",
                "intro = \"My name is \" + name + \" I am a \" + job\r\n",
                "print(intro)"
            ],
            "outputs": [],
            "metadata": {}
        },
        {
            "cell_type": "markdown",
            "source": [
                "### ***Length of a String***\r\n",
                "It can sometimes be useful to know how long a string is, for example if you are\r\n",
                "putting a string into a user interface you might need to know how much of the string\r\n",
                "will be displayed within a field. To find out the length of a string in Python you use\r\n",
                "the ```len()``` function, for example"
            ],
            "metadata": {}
        },
        {
            "cell_type": "code",
            "execution_count": null,
            "source": [
                "my_name = \"Franck_Armand\"\r\n",
                "print(len(my_name))"
            ],
            "outputs": [],
            "metadata": {}
        },
        {
            "cell_type": "markdown",
            "source": [
                "### ***Accessing a Character***\r\n",
                "As a string is a fixed sequence of letters, it is possible to use square brackets and an\r\n",
                "index (or position) to retrieve a specific character from within a string.\r\n",
                ">However, you should note that strings are indexed from Zero! This means that the first character is in position 0, the second in position 1 etc."
            ],
            "metadata": {}
        },
        {
            "cell_type": "code",
            "execution_count": null,
            "source": [
                "my_string = \"I like coding\"\r\n",
                "print(my_string[2])"
            ],
            "outputs": [],
            "metadata": {}
        },
        {
            "cell_type": "markdown",
            "source": [
                "### ***Accessing a Subset of Characters***\r\n",
                "It is also possible to obtain a subset of the original string"
            ],
            "metadata": {}
        },
        {
            "cell_type": "code",
            "execution_count": null,
            "source": [
                "my_string = 'Hello World'\r\n",
                "print(my_string[4]) # characters at position 4\r\n",
                "print(my_string[1:5]) # from position 1 to 5\r\n",
                "print(my_string[:5]) # from start to position 5\r\n",
                "print(my_string[2:]) # from position 2 to the end\r\n",
                "print(my_string[-1]) # last element of the string"
            ],
            "outputs": [],
            "metadata": {}
        },
        {
            "cell_type": "markdown",
            "source": [
                "### ***Splitting Strings***\r\n",
                "A very common requirement is the need to split a string up into multiple separate\r\n",
                "strings based on a specific character such as a space or a comma.\r\n",
                "This can be done with the ```split()``` function, that takes a string to used in\r\n",
                "identifying how to split up the receiving string. For example:"
            ],
            "metadata": {}
        },
        {
            "cell_type": "code",
            "execution_count": null,
            "source": [
                "title = 'The Good, The Bad, and the Ugly'\r\n",
                "print('Source string:', title)\r\n",
                "print('Split using a space')\r\n",
                "print(title.split(' '))\r\n",
                "print('Split using a comma')\r\n",
                "print(title.split(','))"
            ],
            "outputs": [],
            "metadata": {}
        },
        {
            "cell_type": "markdown",
            "source": [
                "### ***Counting Strings***\r\n",
                "It is possible to find out how many times a string is repeated in another string. This\r\n",
                "is done using the ```count()``` operation for example"
            ],
            "metadata": {}
        },
        {
            "cell_type": "code",
            "execution_count": null,
            "source": [
                "my_string = 'Count, the number    of spaces'\r\n",
                "print(\"my_string.count(' '):\", my_string.count(' '))"
            ],
            "outputs": [],
            "metadata": {}
        },
        {
            "cell_type": "markdown",
            "source": [
                "### ***Replacing Strings***\r\n",
                "One string can replace a substring in another string. This is done using the\r\n",
                "```replace()``` method on a string. For example:"
            ],
            "metadata": {}
        },
        {
            "cell_type": "code",
            "execution_count": null,
            "source": [
                "welcome_message = 'Hello Python students!'\r\n",
                "print(welcome_message.replace(\"Hello\", \"Goodbye\"))"
            ],
            "outputs": [],
            "metadata": {}
        },
        {
            "cell_type": "markdown",
            "source": [
                "### ***Finding Sub Strings***\r\n",
                "You can find out if one string is a substring of another string using the ```find()```\r\n",
                "method. This method takes a second string as a parameter and checks to see if that\r\n",
                "string is in the string receiving the ```find()``` method, for example: ```string.find(string_to_find)```\r\n",
                "The method returns −1 if the string is not present. Otherwise it returns an index\r\n",
                "indicating the start of the substring."
            ],
            "metadata": {}
        },
        {
            "cell_type": "code",
            "execution_count": null,
            "source": [
                "print('Students of UESTC master dorm 1'.find('dorm'))"
            ],
            "outputs": [],
            "metadata": {}
        },
        {
            "cell_type": "markdown",
            "source": [
                "### ***Converting Other Types into Strings***\r\n",
                "If you try to use the '+' concatenation operator with a string and some other type\r\n",
                "such as a number then you will get an error. For instance:\r\n",
                "``` python\r\n",
                "msg = 'Hello Lloyd you are ' + 21\r\n",
                "print(msg)\r\n",
                "```\r\n",
                "You will get an error message indicating that you can only concatenate strings\r\n",
                "with strings not integers with strings. To concatenate a number such as 21 with a\r\n",
                "string you must convert it to a string. This can be done using the str() function.\r\n",
                "This contest any type into a string representation of that type. For example:"
            ],
            "metadata": {}
        },
        {
            "cell_type": "code",
            "execution_count": null,
            "source": [
                "msg = 'Hello Franck you are ' + str(10)\r\n",
                "print(msg)"
            ],
            "outputs": [],
            "metadata": {}
        },
        {
            "cell_type": "markdown",
            "source": [
                "### ***Other String Operations***\r\n",
                "<p>There are in fact very many different operations available for strings, including\r\n",
                "checking that a string starts or ends with another string, that is it upper or lower case\r\n",
                "etc. It is also possible to replace part of a string with another string, convert strings\r\n",
                "to upper, lower or title case etc.</p>"
            ],
            "metadata": {}
        },
        {
            "cell_type": "code",
            "execution_count": null,
            "source": [
                "some_string = 'Hello World'\r\n",
                "print('Testing a String')\r\n",
                "print('-' * 20)\r\n",
                "print('some_string', some_string)\r\n",
                "print(\"some_string.startswith('H')\", some_string.startswith('H'))\r\n",
                "print(\"some_string.startswith('h')\", some_string.startswith('h'))\r\n",
                "print(\"some_string.endswith('d')\", some_string.endswith('d'))\r\n",
                "print('some_string.istitle()', some_string.istitle())\r\n",
                "print('some_string.isupper()', some_string.isupper())\r\n",
                "print('some_string.islower()', some_string.islower())\r\n",
                "print('some_string.isalpha()', some_string.isalpha())\r\n",
                "print('String conversions')\r\n",
                "print('-' * 20)\r\n",
                "print('some_string.upper()', some_string.upper())\r\n",
                "print('some_string.lower()', some_string.lower())\r\n",
                "print('some_string.title()', some_string.title())\r\n",
                "print('some_string.swapcase()', some_string.swapcase())\r\n",
                "print('String leading, trailing spaces', \" xyz \".strip())"
            ],
            "outputs": [],
            "metadata": {}
        },
        {
            "cell_type": "markdown",
            "source": [
                "# **Exercises 2**\r\n",
                "We are going to try out some of the string related operations.\r\n",
                "1. Explore replacing a string\r\n",
                "Create a string with words separated by ',' and replace the commas with spaces;\r\n",
                "for example replace all the commas in 'Denyse,Marie,Smith,21,London,UK'\r\n",
                "with spaces. Now print out the resulting string.\r\n",
                "2. Handle user input\r\n",
                "The aim of this exercise is to write a program to ask the user for two strings and\r\n",
                "concatenate them together, with a space between them and store them into a new\r\n",
                "variable called new_string.\r\n",
                "Next:\r\n",
                "+ Print out the value of new_string.\r\n",
                "+ Print out how long the contents of new_string is.\r\n",
                "+ Now convert the contents of new_string to all upper case.\r\n",
                "+ Now check to see if new_string contains the string 'Albus' as a substring."
            ],
            "metadata": {}
        },
        {
            "cell_type": "code",
            "execution_count": null,
            "source": [
                "''' Your Solution here'''"
            ],
            "outputs": [],
            "metadata": {}
        },
        {
            "cell_type": "markdown",
            "source": [
                "# **CHALLENGE 1**\r\n",
                "Create a program to ask for the user name and their age. and return a message telling them when the year they will turn 100 years old.\r\n",
                "\r\n",
                "Extras:\r\n",
                "1. Add on to the previous program by asking the user for another number and printing out that many copies of the previous message.\r\n",
                "2. Print out that many copies of the previous message on separate lines."
            ],
            "metadata": {}
        },
        {
            "cell_type": "code",
            "execution_count": null,
            "source": [
                "''' Your Code here....'''"
            ],
            "outputs": [],
            "metadata": {}
        },
        {
            "cell_type": "markdown",
            "source": [
                "# **Arithmetic Operators**\r\n",
                "Arithmetic operators are used to perform some form of mathematical operation such as addition, subtraction, multiplication and division etc. In Python they are represented by one or two characters.\r\n",
                ">Ckeck assets foder for the arithmetic operators in python ![Arithmetic operators](./assets/Arithmetic.png)"
            ],
            "metadata": {}
        },
        {
            "cell_type": "code",
            "execution_count": null,
            "source": [
                "# addition\r\n",
                "home = 10\r\n",
                "away = 15\r\n",
                "print(home + away)\r\n",
                "print(type(home + away))\r\n",
                "\r\n",
                "# multiplication\r\n",
                "print(10 * 4)\r\n",
                "print(type(10*4))\r\n",
                "\r\n",
                "# subtraction\r\n",
                "goals_for = 10\r\n",
                "goals_against = 7\r\n",
                "print(goals_for - goals_against)\r\n",
                "print(type(goals_for - goals_against))\r\n",
                "\r\n",
                "# normal division\r\n",
                "res1 = 3/2\r\n",
                "print(res1)\r\n",
                "print(type(res1))\r\n",
                "\r\n",
                "#integer division\r\n",
                "res2 = 3//2\r\n",
                "print(res2)\r\n",
                "print(type(res2))\r\n",
                "\r\n",
                "# Modulus\r\n",
                "print('Modulus division 4 % 2:', 4 % 2)\r\n",
                "print('Modulus division 3 % 2:', 3 % 2)\r\n",
                "\r\n",
                "# power\r\n",
                "a = 5\r\n",
                "b = 3\r\n",
                "print(a ** b)"
            ],
            "outputs": [],
            "metadata": {}
        },
        {
            "cell_type": "markdown",
            "source": [
                "# Assign operators\r\n",
                "These assignment operators are actually referred to as compound operators as\r\n",
                "they combine together a numeric operation (such as add) with the assignment\r\n",
                "operator. For example, the += compound operator is a combination of the add\r\n",
                "operator and the = operator such that\r\n",
                "```python\r\n",
                "x += 1 # has the same behaviour as x = x + 1\r\n",
                "```\r\n",
                ">Ckeck asset for more details"
            ],
            "metadata": {}
        },
        {
            "cell_type": "markdown",
            "source": [
                "# Online ressources\r\n",
                "See the Python Standard Library documentation for:\r\n",
                "* [Numeric Types](https://docs.python.org/3/library/stdtypes.html#numeric-types-int-float-complex)\r\n",
                "* [Boolean values and boolean testing.](https://docs.python.org/3/library/stdtypes.html#truth-value-testing)\r\n",
                "* [which provides information on the Python decimal module](https://docs.python.org/3/library/decimal.html)\r\n",
                "* [which discusses mathematical functions for complex numbers.](https://docs.python.org/3/library/cmath.html)\r\n",
                "\r\n",
                "\r\n",
                "If you are interested in how floating point numbers are represented then a good starting points are:\r\n",
                "* [whichprovides an overview of floating point representation.](https://en.wikipedia.org/wiki/Double-precision_floating-point_format)\r\n",
                "* [which is the Wikipedia page on the IEEE 754 Double-precision floating-point number format.](https://en.wikipedia.org/wiki/IEEE_754)"
            ],
            "metadata": {}
        },
        {
            "cell_type": "markdown",
            "source": [
                "# **Exercice 3**\r\n",
                "The aim of this exercise is to write a program to convert a distance in Kilometres into a distance in miles.\r\n",
                "1. Take input from the user for a given distance in Kilometres. This can be done\r\n",
                "using the ```input()``` function.\r\n",
                "2. Convert the value returned by the ```input()``` function from a string into an\r\n",
                "integer using the ```int()``` function.\r\n",
                "3. Now convert this value into miles—this can be done by dividing the kilometres\r\n",
                "by 0.6214\r\n",
                "4. Print out a message telling the user what the kilometres are in miles."
            ],
            "metadata": {}
        },
        {
            "cell_type": "code",
            "execution_count": null,
            "source": [
                "''' Your code here '''"
            ],
            "outputs": [],
            "metadata": {}
        },
        {
            "cell_type": "markdown",
            "source": [
                "# **CHALLENGE 2**\r\n",
                "Ask the user for a number. Depending on whether the number is even or odd, print out an appropriate message to the user. Hint: how does an even / odd number react differently when divided by 2?\r\n",
                "\r\n",
                "Extras:\r\n",
                "\r\n",
                "1. If the number is a multiple of 4, print out a different message.\r\n",
                "2. Ask the user for two numbers: one number to check (call it num) and one number to divide by (check). If check divides evenly into num, tell that to the user. If not, print a different appropriate message."
            ],
            "metadata": {}
        },
        {
            "cell_type": "code",
            "execution_count": null,
            "source": [
                "'''Your code here '''"
            ],
            "outputs": [],
            "metadata": {}
        },
        {
            "cell_type": "markdown",
            "source": [
                "# **list in python**\r\n",
                "A list stores a series of items in a particular order. You access items using an index, or within a loop."
            ],
            "metadata": {}
        },
        {
            "cell_type": "code",
            "execution_count": null,
            "source": [
                "# make a list\r\n",
                "colors = [\"bleu\", \"red\", \"yellow\", \"green\", \"orange\"]\r\n",
                "\r\n",
                "# Get first item in a list\r\n",
                "first_item = colors[0]\r\n",
                "\r\n",
                "# Get the last elements in the list\r\n",
                "last_elements = colors[-1]\r\n",
                "\r\n",
                "# Get the entire list\r\n",
                "entire_list = colors[:]\r\n",
                "\r\n",
                "# Looping through a list\r\n",
                "for color in colors:\r\n",
                "    print(color)\r\n",
                "\r\n",
                "# adding item to the list\r\n",
                "colors.insert(1,\"black\") # This method is for adding an element at a specific index or position\r\n",
                "colors.append(\"purple\") # This method is for adding an element at the end of the list\r\n",
                "\r\n",
                "# deleting items from the List, we have 2 common ways to do so:\r\n",
                "# remove elements by its position\r\n",
                "del colors[-1] # This method deletes the last element from the list\r\n",
                "# remove elements by its value\r\n",
                "colors.remove(\"yellow\") # This method deletes the last element from the list\r\n",
                "\r\n",
                "# appending elements to an empty list\r\n",
                "sqare_numbers = []\r\n",
                "for number in range(1,10):\r\n",
                "    sqare_numbers.append(number**2)\r\n",
                "\r\n",
                "# List comprehension\r\n",
                "sqare_num = [number**2 for number in range(1,10)]\r\n",
                "\r\n",
                "# Slicing a List in python\r\n",
                "rand_elements = [\"1\",\"apple\",\"house\",\"-5\", \"100\", \"50\", \"boat\"]\r\n",
                "first_two = rand_elements[:2]\r\n",
                "starting_from_two = rand_lements[2:]\r\n",
                "\r\n",
                "# Copy a list\r\n",
                "copyOfRandElemts = randElements[:]"
            ],
            "outputs": [],
            "metadata": {}
        },
        {
            "cell_type": "markdown",
            "source": [
                "### ***Popping elements from a list***\r\n",
                "by default pop() returns the last element of the list but you can pop from any position in the list."
            ],
            "metadata": {}
        },
        {
            "cell_type": "code",
            "execution_count": null,
            "source": [
                "users = ['val', 'bob', 'mia', 'paul']\r\n",
                "mots_recent_user = users.pop()  # the last element is returned\r\n",
                "first_user = users.pop(0)\r\n",
                "print(mots_recent_user, \"is the last user\")\r\n",
                "print(first_user, \"is the first user\")"
            ],
            "outputs": [],
            "metadata": {}
        },
        {
            "cell_type": "markdown",
            "source": [
                "### ***sorting a list permanently***\r\n"
            ],
            "metadata": {}
        },
        {
            "cell_type": "code",
            "execution_count": null,
            "source": [
                "users = ['val', 'bob', 'mia', 'paul', 'franck']\r\n",
                "users.sort()\r\n",
                "#users.sort(reverse=True)\r\n",
                "print(users)"
            ],
            "outputs": [],
            "metadata": {}
        },
        {
            "cell_type": "markdown",
            "source": [
                "### ***Sorting a list temporarily***"
            ],
            "metadata": {}
        },
        {
            "cell_type": "code",
            "execution_count": null,
            "source": [
                "users = ['val','bob','mia','paul']\r\n",
                "print(sorted(users))\r\n",
                "#print(sorted(users,reverse = True)) #sorted and reverse Temporarily"
            ],
            "outputs": [],
            "metadata": {}
        },
        {
            "cell_type": "markdown",
            "source": [
                "### ***List comprehensions:***\r\n",
                "You can use a loop to generate a list based on a range of\r\n",
                "numbers or on another list. This is a common operation, so\r\n",
                "Python offers a more efficient way to do it. List\r\n",
                "comprehensions may look complicated at first; if so, use the\r\n",
                "for loop approach until you're ready to start using\r\n",
                "comprehensions"
            ],
            "metadata": {}
        },
        {
            "cell_type": "code",
            "execution_count": null,
            "source": [
                "# using a list to to generate a list of square\r\n",
                "square = []\r\n",
                "for x in range(1,11):\r\n",
                "    squares = x**2\r\n",
                "    square.append(squares)\r\n",
                "print(square)\r\n",
                "\r\n",
                "# using a list cmprehension to generate list of squares\r\n",
                "comprehension_square = [x**2 for x in range(1,11)]\r\n",
                "print(comprehension_square)\r\n",
                "\r\n",
                "# using a loop to convert a list of names to upper case\r\n",
                "names = ['mike','lucy','esme','prince']\r\n",
                "upper_names = []\r\n",
                "for name in names:\r\n",
                "    upper_names.append(name.upper())\r\n",
                "print(upper_names)\r\n",
                "\r\n",
                "# using a list comprehension to convert a list of names to upper\r\n",
                "names_1 = ['kai','abe','ada','gus','zoe']\r\n",
                "upper_names_1 = [name.upper() for name in names_1]\r\n",
                "print(upper_names_1)"
            ],
            "outputs": [],
            "metadata": {}
        },
        {
            "cell_type": "markdown",
            "source": [
                "### ***Simple statistics, min, max and sum***"
            ],
            "metadata": {}
        },
        {
            "cell_type": "code",
            "execution_count": null,
            "source": [
                "ages = [12,45,34,76,35,67,36,86,25,23,44,65,78,28]\r\n",
                "\r\n",
                "youngest = min(ages) #finding the smallest numerical value of a list\r\n",
                "oldest = max(ages)  #finding the oldest numerical value of a list\r\n",
                "sum_ages = sum(ages) # adding all the elements in the list\r\n",
                "\r\n",
                "print(\"the youngest from the list is :\",youngest)\r\n",
                "print(\"the youngest from the list is :\",oldest)\r\n",
                "print(\"the total ages is :\",sum_ages)"
            ],
            "outputs": [],
            "metadata": {}
        },
        {
            "cell_type": "markdown",
            "source": [
                "> There are various methods attached to  List in python such ```clear()```...you can explore them on your own"
            ],
            "metadata": {}
        },
        {
            "cell_type": "markdown",
            "source": [
                "# **CHALLENGE 3**\r\n",
                "Take a list, say for example this one:\r\n",
                "\r\n",
                "a = [22, 0, 4, 3, 37, 78, 3, 97, 34, 50, 88, 100]\r\n",
                "and write a program that prints out all the elements of the list that are less than 5.\r\n",
                "\r\n",
                "Extras:\r\n",
                "\r\n",
                "* Instead of printing the elements one by one, make a new list that has all the elements less than 5 from this list in it and print out this new list.\r\n",
                "* Write this in one line of Python.\r\n",
                "* Ask the user for a number and return a list that contains only elements from the original list a that are smaller than that number given by the user."
            ],
            "metadata": {}
        },
        {
            "cell_type": "code",
            "execution_count": null,
            "source": [
                "'''Your code here'''"
            ],
            "outputs": [],
            "metadata": {}
        },
        {
            "cell_type": "markdown",
            "source": [
                "# **Tuples**\r\n",
                "#### Tuples are similar to lists, but the items in a tuple can't be modified. (You can overwrite an entire tuple, but you can't change the individual elements in a tuple.)"
            ],
            "metadata": {}
        },
        {
            "cell_type": "code",
            "execution_count": null,
            "source": [
                "# Making a Tuple\r\n",
                "dimensions = (25, -3, 5)\r\n",
                "dimension = dimensions[0] # fist element in the tuple\r\n",
                "print (dimension)\r\n",
                "dimension = dimensions[-1] # Last element in the tuple\r\n",
                "print(dimension)\r\n",
                "\r\n",
                "# Overwriting a tuple\r\n",
                "distances = (45,23)\r\n",
                "print(distances)\r\n",
                "distances = (34,87)\r\n",
                "print(distances)\r\n",
                "\r\n",
                "# Looping through a tuple\r\n",
                "dimensions = (777,666)\r\n",
                "for dimension in dimensions:\r\n",
                "    print(dimension)"
            ],
            "outputs": [],
            "metadata": {}
        },
        {
            "cell_type": "markdown",
            "source": [
                "# **Dictionaries**\r\n",
                "#### dictionaries stores info between pieces of information. it is a key-value pair"
            ],
            "metadata": {}
        },
        {
            "cell_type": "code",
            "execution_count": null,
            "source": [
                "# creating and accessing a dictionary\r\n",
                "student = {\"name\": \"paul\", \"color\": \"black\", \"major\":\"computer science\",\"age\":20}\r\n",
                "print(\"The student name is:\" ,student[\"name\"])\r\n",
                "print(\"The student age is:\" ,student[\"age\"])\r\n",
                "# and so on ..."
            ],
            "outputs": [],
            "metadata": {}
        },
        {
            "cell_type": "markdown",
            "source": [
                "#### Getting a value associated with get(): the get() function returns a none instead of an error if the key is not found."
            ],
            "metadata": {}
        },
        {
            "cell_type": "code",
            "execution_count": null,
            "source": [
                "student = {'name': 'paul', 'color': 'black', 'id': 123, 'age': 20, \"major\":\"computer science\"}\r\n",
                "student_name = student.get('name')\r\n",
                "# here I added a key that does not belong to the dictionary\r\n",
                "student_color = student.get('point')\r\n",
                "print(\"the student name is:\", student_name + \" and his color is:\" ,student_color)  # for color it returns None"
            ],
            "outputs": [],
            "metadata": {}
        },
        {
            "cell_type": "markdown",
            "source": [
                "#### Adding a new key-value pair."
            ],
            "metadata": {}
        },
        {
            "cell_type": "code",
            "execution_count": null,
            "source": [
                "student['gender'] = 'M'\r\n",
                "print(student)"
            ],
            "outputs": [],
            "metadata": {}
        },
        {
            "cell_type": "markdown",
            "source": [
                "#### You can modify the value associated with any key in a dictionary. To do so give the name of the dictionary and enclose the key in square brackets, then provide the new value for that key."
            ],
            "metadata": {}
        },
        {
            "cell_type": "code",
            "execution_count": null,
            "source": [
                "student = {'name': 'franck', 'color': 'blue', 'id': 123, 'age': 23}\r\n",
                "print(\"This is the original dictionary:\", student)\r\n",
                "student['name'] = 'franck_armand'\r\n",
                "student['age'] = 22\r\n",
                "print(\"This is the edited dictionary:\", student)"
            ],
            "outputs": [],
            "metadata": {}
        },
        {
            "cell_type": "markdown",
            "source": [
                "#### Removing Key-value pairs.You can remove any key-value pair you want from a dictionary. To do so use the del keyword and the dictionary name, followed by the key in square brackets. This will delete the key and its associated value."
            ],
            "metadata": {}
        },
        {
            "cell_type": "code",
            "execution_count": null,
            "source": [
                "# deleting a key from the dic\r\n",
                "student = {'name': 'franck', 'color': 'blue', 'id': 123, 'age': 23}\r\n",
                "del student['id']\r\n",
                "print(student)"
            ],
            "outputs": [],
            "metadata": {}
        },
        {
            "cell_type": "markdown",
            "source": [
                "#### You can loop through a dictionary in three ways: you can loop through all the key-value pairs, all the keys, or all the values. A dictionary only tracks the connections between keys and values; it doesn't track the order of items in the dictionary. If you want to process the information in order,you can sort the keys in your loop."
            ],
            "metadata": {}
        },
        {
            "cell_type": "code",
            "execution_count": null,
            "source": [
                "# looping through all key-value pair of a dictionary\r\n",
                "fav_numbers = {'franck': '12', 'alex':' 23', 'eric': '1'}\r\n",
                "for name, number in fav_numbers.items():\r\n",
                "    print(name + ' loves ' + number)"
            ],
            "outputs": [],
            "metadata": {}
        },
        {
            "cell_type": "markdown",
            "source": [
                "## **Little Practice**\r\n",
                "Create a dictionary of people's programming languages and loop through it."
            ],
            "metadata": {}
        },
        {
            "cell_type": "code",
            "execution_count": null,
            "source": [
                "''' You code here '''"
            ],
            "outputs": [],
            "metadata": {}
        },
        {
            "cell_type": "markdown",
            "source": [
                "#### Looping through all the keys."
            ],
            "metadata": {}
        },
        {
            "cell_type": "code",
            "execution_count": null,
            "source": [
                "fav_numb = {'franck':12,'alex':23,'eric':1}\r\n",
                "for name in fav_numb.keys():\r\n",
                "    print(name + ' loves a number')"
            ],
            "outputs": [],
            "metadata": {}
        },
        {
            "cell_type": "markdown",
            "source": [
                "#### looping through all values."
            ],
            "metadata": {}
        },
        {
            "cell_type": "code",
            "execution_count": null,
            "source": [
                "fav_numb = {'franck':12,'alex':23,'eric':1}\r\n",
                "for value in fav_numb.values():\r\n",
                "    print(str(value)+ ' is a favorite number')"
            ],
            "outputs": [],
            "metadata": {}
        },
        {
            "cell_type": "markdown",
            "source": [
                "#### Dictionarty Length. You can find the number of key-value pairs in a dictionary."
            ],
            "metadata": {}
        },
        {
            "cell_type": "code",
            "execution_count": null,
            "source": [
                "fav_languages = {\r\n",
                "    'jen': 'python',\r\n",
                "    'sarah': 'c',\r\n",
                "    'edward': 'ruby',\r\n",
                "    'phil': 'python',\r\n",
                "}\r\n",
                "print(len(fav_languages))"
            ],
            "outputs": [],
            "metadata": {}
        },
        {
            "cell_type": "markdown",
            "source": [
                "#### Nesting __ A list of dictionaries. It's sometimes useful to store a set of dictionaries in a list; this is called nesting"
            ],
            "metadata": {}
        },
        {
            "cell_type": "code",
            "execution_count": null,
            "source": [
                "# Storing dictionaries in a list\r\n",
                "users = []  # start with an empty list\r\n",
                "new_users = {    # create a new user and add it to the list\r\n",
                "    'last': 'kouassi',\r\n",
                "    'first': 'franck',\r\n",
                "    'username': 'coder225',\r\n",
                "}\r\n",
                "users.append(new_users)\r\n",
                "new_users = {        # the second user is added to the list\r\n",
                "    'last': 'killer',\r\n",
                "    'first': 'paul',\r\n",
                "    'username': 'admin',\r\n",
                "}\r\n",
                "users.append(new_users)\r\n",
                "for user_dictionary in users:\r\n",
                "    for key, value in user_dictionary.items():\r\n",
                "        print(key + ' : ' + value)\r\n",
                "print(\"The lenght of the nested list is:\",len(users))"
            ],
            "outputs": [],
            "metadata": {}
        },
        {
            "cell_type": "markdown",
            "source": [
                "#### Storing Lists in dictionary: Storing a list inside a dictionary alows you to associate more than one value with each key."
            ],
            "metadata": {}
        },
        {
            "cell_type": "code",
            "execution_count": null,
            "source": [
                "# Storing Lists in dictionary\r\n",
                "favorite_lang = {\r\n",
                "    'franck':['python','ruby'],\r\n",
                "    'sarah':['C/C'],\r\n",
                "    'victor':['go','java','javascript'],\r\n",
                "    'kussi':['haskell','python'],\r\n",
                "}\r\n",
                "for name, languages in favorite_lang.items():\r\n",
                "    print(name + ': ')\r\n",
                "    for language in languages:\r\n",
                "        print(\"_ \" + language)"
            ],
            "outputs": [],
            "metadata": {}
        },
        {
            "cell_type": "markdown",
            "source": [
                "####  Nesting__A dictionary of dictionaries: You can store a dictionary inside another dictionary. In this case each value associated with a key is itself a dictionary"
            ],
            "metadata": {}
        },
        {
            "cell_type": "code",
            "execution_count": null,
            "source": [
                "# Storing dictionaries in a dictionary\r\n",
                "students = {\r\n",
                "    'cs_school_student':{\r\n",
                "        'first':'albert',\r\n",
                "        'last':'einstein',\r\n",
                "        'address':'Germany',\r\n",
                "    },\r\n",
                "    'art_school_student':{\r\n",
                "        'first':'paul',\r\n",
                "        'last':'marc',\r\n",
                "        'address':'China',\r\n",
                "    },\r\n",
                "}\r\n",
                "for student_school, student_name in students.items():\r\n",
                "    print(\"\\nSchool: \" + student_school)\r\n",
                "    full_name = student_name[\"first\"] + \" \"\r\n",
                "    full_name += student_name[\"last\"]\r\n",
                "    location = student_name[\"address\"]\r\n",
                "    print(\"\\tFull name:\" ,full_name.title())\r\n",
                "    print(\"\\tLocation:\" ,location.title())\r\n"
            ],
            "outputs": [],
            "metadata": {}
        },
        {
            "cell_type": "markdown",
            "source": [
                "####  Using an OrderedDict: Standard Python dictionaries don't keep track of the order in which keys and values are added; they only preserve the association between each key and its value. If you want to preserve the order in which keys and values are added, use an OrderedDict."
            ],
            "metadata": {}
        },
        {
            "cell_type": "code",
            "execution_count": null,
            "source": [
                "# import the library\r\n",
                "from collections import OrderedDict\r\n",
                "\r\n",
                "fav_languages = OrderedDict() #we keep track of the responses\r\n",
                "\r\n",
                "fav_languages['kk']=['python','ruby']\r\n",
                "fav_languages['sarah']=['c']\r\n",
                "fav_languages['edward']=['go','java']\r\n",
                "fav_languages['phil']=['python','haskell']\r\n",
                "\r\n",
                "for name, langs in fav_languages.items():\r\n",
                "    print(name + \":\")\r\n",
                "    for language in langs:\r\n",
                "        print(\"_\" + language)\r\n"
            ],
            "outputs": [],
            "metadata": {}
        },
        {
            "cell_type": "markdown",
            "source": [
                "#### ```range()``` function starts at 0 by default, and stops one number below the number passed to it. You can use the ```list()``` function to efficiently generate a large list of numbers."
            ],
            "metadata": {}
        },
        {
            "cell_type": "code",
            "execution_count": null,
            "source": [
                "for number in range(0,5):\r\n",
                "    print (number, end= ' ')\r\n",
                "\r\n",
                "numbers = list(range(1,6))\r\n",
                "print(numbers)"
            ],
            "outputs": [],
            "metadata": {}
        },
        {
            "cell_type": "markdown",
            "source": [
                "# **Iteration / Looping**"
            ],
            "metadata": {}
        },
        {
            "cell_type": "markdown",
            "source": [
                "## ***if statement***\r\n",
                "Several kinds of ```if``` statements exist. Your choice of which to\r\n",
                "use depends on the number of conditions you need to test.\r\n",
                "You can have as many ```elif``` blocks as you need, and the\r\n",
                "else block is always optional."
            ],
            "metadata": {}
        },
        {
            "cell_type": "code",
            "execution_count": null,
            "source": [
                "# simple if statement\r\n",
                "user_age = 30\r\n",
                "if user_age >= 20:\r\n",
                "    print(\"You are old!\")"
            ],
            "outputs": [],
            "metadata": {}
        },
        {
            "cell_type": "code",
            "execution_count": null,
            "source": [
                "# simple if-else statement\r\n",
                "user_age = input(\"enter your age : \")\r\n",
                "if user_age < str(18):\r\n",
                "    print(\"you are under age\")\r\n",
                "else:\r\n",
                "    print(\"it is okay you can vote\")"
            ],
            "outputs": [],
            "metadata": {}
        },
        {
            "cell_type": "code",
            "execution_count": null,
            "source": [
                "# the if-elif-else chain\r\n",
                "age = input(\"please enter your name to know your price: \")\r\n",
                "if age < str(10):\r\n",
                "    print(\"you are under 10, it is free for you\")\r\n",
                "elif age > str(10) and age < str(18):\r\n",
                "    print(\"you are a youth, it is 20$\")\r\n",
                "else:\r\n",
                "    print(\"sorry you are not part of the selected categories, thanks!\")\r\n"
            ],
            "outputs": [],
            "metadata": {}
        },
        {
            "cell_type": "markdown",
            "source": [
                "## ***Conditional tests with lists***\r\n",
                "You can easily test whether a certain value is in a list. You\r\n",
                "can also test whether a list is empty before trying to loop\r\n",
                "through the list"
            ],
            "metadata": {}
        },
        {
            "cell_type": "code",
            "execution_count": null,
            "source": [
                "# testing if a value is in the List\r\n",
                "players = ['aaa','bbb','ccc','ddd']\r\n",
                "print('aaa' in players)\r\n",
                "print('bb' in players)"
            ],
            "outputs": [],
            "metadata": {}
        },
        {
            "cell_type": "markdown",
            "source": [
                "## ***While loop***\r\n",
                "The while loop exists in almost all programming languages and is used to iterative\r\n",
                "(or repeat) one or more code statements as long as the test condition (expression) is\r\n",
                "True. This iteration construct is usually used when the number of times we need to\r\n",
                "repeat the block of code to execute is not known.\r\n",
                "```python\r\n",
                "while(condition):\r\n",
                "/*\r\n",
                "    statement\r\n",
                "*/\r\n"
            ],
            "metadata": {}
        },
        {
            "cell_type": "code",
            "execution_count": null,
            "source": [
                "count = 0\r\n",
                "print('Starting')\r\n",
                "while count < 10:\r\n",
                "    print(count, ' ', end='') # part of the while loop\r\n",
                "    count += 1 # also part of the while loop\r\n",
                "print() # not part of the while loop\r\n",
                "print('Done')"
            ],
            "outputs": [],
            "metadata": {}
        },
        {
            "cell_type": "markdown",
            "source": [
                "## ***For loop***\r\n",
                "In many cases we know how many times we want to iterative over one or more\r\n",
                "statements (as indeed we did in the previous section). Although the ```while``` loop\r\n",
                "can be used for such situations, the ```for``` loop is a far more concise way to do this. It\r\n",
                "typically also clearer to another programmer that the loop must iterate for a specific\r\n",
                "number of iterations.\r\n",
                "The format of the Python for loop when using a ```range``` of values is\r\n",
                "```python\r\n",
                "for <variable-name> in range(...):\r\n",
                "statement\r\n",
                "statement\r\n",
                "```"
            ],
            "metadata": {}
        },
        {
            "cell_type": "code",
            "execution_count": null,
            "source": [
                "# Loop over a set of values in a range\r\n",
                "print('Print out values in a range')\r\n",
                "for i in range(0, 10):\r\n",
                "    print(i, ' ', end='')\r\n",
                "print()\r\n",
                "print('Done')\r\n",
                "\r\n",
                "# now let's say yoou want to increment the count by 2."
            ],
            "outputs": [],
            "metadata": {}
        },
        {
            "cell_type": "markdown",
            "source": [
                "## ***Break Loop Statement***\r\n",
                "Python allows programmers to decide whether they want to break out of a loop\r\n",
                "early or not (whether we are using a ```for``` loop or a ```while``` loop). This is done using\r\n",
                "the ```break``` statement. The ```break``` statement, when executed, will terminate the current loop and jump\r\n",
                "the program to the first line after the loop."
            ],
            "metadata": {}
        },
        {
            "cell_type": "code",
            "execution_count": null,
            "source": [
                "print('Only print code if all iterations completed')\r\n",
                "num = int(input('Enter a number to check for: '))\r\n",
                "for i in range(0, 6):\r\n",
                "    if i == num:\r\n",
                "        break\r\n",
                "    print(i, ' ', end='')\r\n",
                "print('Done')\r\n",
                "# If we run this and enter the value 7 (which is outside of the range) then all the\r\n",
                "# values in the loop should be printed\r\n",
                "# However, if we enter the value 3 then only the values 0, 1 and 2 will be printed\r\n",
                "# out before the loop breaks"
            ],
            "outputs": [],
            "metadata": {}
        },
        {
            "cell_type": "markdown",
            "source": [
                "## ***continue Loop***\r\n",
                "The ```continue``` statement also affects the flow of control within the looping\r\n",
                "constructs ```for``` and ```while```. However, it does not terminate the whole loop; rather it\r\n",
                "only terminates the current iteration round the loop. This allows you to skip over\r\n",
                "part of a loop’s iteration for a particular value, but then to continue with the\r\n",
                "remaining values in the sequence."
            ],
            "metadata": {}
        },
        {
            "cell_type": "code",
            "execution_count": null,
            "source": [
                "for i in range(0, 10):\r\n",
                "    print(i, ' ', end='')\r\n",
                "    if i % 2 == 1:\r\n",
                "        continue\r\n",
                "    print('hey its an even number')\r\n",
                "    print('we love even numbers')\r\n",
                "print('Done')\r\n",
                "# we print the message only for even numbers"
            ],
            "outputs": [],
            "metadata": {}
        },
        {
            "cell_type": "code",
            "execution_count": null,
            "source": [],
            "outputs": [],
            "metadata": {}
        }
    ],
    "metadata": {
        "orig_nbformat": 4,
        "language_info": {
            "name": "python",
            "version": "3.7.7",
            "mimetype": "text/x-python",
            "codemirror_mode": {
                "name": "ipython",
                "version": 3
            },
            "pygments_lexer": "ipython3",
            "nbconvert_exporter": "python",
            "file_extension": ".py"
        },
        "kernelspec": {
            "name": "python3",
            "display_name": "Python 3.7.7 64-bit ('myenv': conda)"
        },
        "interpreter": {
            "hash": "28dbef228a6a3bcf719825df92d17188a17f4a6e89f281f9f8d187d8be9f5185"
        }
    },
    "nbformat": 4,
    "nbformat_minor": 2
}