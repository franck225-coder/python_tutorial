{
    "cells": [
        {
            "cell_type": "markdown",
            "source": [
                "## The Zen of Python\r\n",
                "\"The Zen of Python\" contains 20 guidances that have influence the design of python.  readable, and clean code. Next time you You are coding, try following these guidelines to write beautifully and make your code more reusable."
            ],
            "metadata": {}
        },
        {
            "cell_type": "code",
            "execution_count": null,
            "source": [
                "import this"
            ],
            "outputs": [],
            "metadata": {}
        },
        {
            "cell_type": "markdown",
            "source": [
                "# variables and Strings\r\n",
                "Variables are used to store values. A string is a series of characters, surrounded by single or double quotes."
            ],
            "metadata": {}
        },
        {
            "cell_type": "code",
            "execution_count": null,
            "source": [
                "# Hello world\r\n",
                "print(\"Hello world\")\r\n",
                "\r\n",
                "# Hello world with a variable\r\n",
                "text = \"Hello world\"\r\n",
                "print(text)\r\n",
                "\r\n",
                "# Concatenation (Combining strings)\r\n",
                "name = \"Coder_225\"\r\n",
                "job = \"Programmer\"\r\n",
                "intro = name + \" \" + \"I am a \" + job\r\n",
                "## using format option in a simple string\r\n",
                "print(f\"my name is {name} I am a {job}\")\r\n",
                "print(intro)"
            ],
            "outputs": [],
            "metadata": {}
        },
        {
            "cell_type": "markdown",
            "source": [
                "# list\r\n",
                "A list stores a series of items in a particular order. You access items using an index, or within a loop."
            ],
            "metadata": {}
        },
        {
            "cell_type": "code",
            "execution_count": 24,
            "source": [
                "# make a list\r\n",
                "colors = [\"bleu\", \"red\", \"yellow\", \"green\", \"orange\"]\r\n",
                "\r\n",
                "# Get first item in a list\r\n",
                "first_item = colors[0]\r\n",
                "first_item\r\n",
                "\r\n",
                "# Get the last elements in the list\r\n",
                "last_elements = colors[-1]\r\n",
                "last_elements\r\n",
                "\r\n",
                "# Looping through a list\r\n",
                "for color in colors:\r\n",
                "    print(color)\r\n",
                "\r\n",
                "# adding item to the list\r\n",
                "colors.insert(1,\"black\") # This method is for adding an element at a specific index or position\r\n",
                "colors.append(\"purple\") # This method is for adding an element at the end of the list\r\n",
                "colors\r\n",
                "\r\n",
                "# "
            ],
            "outputs": [
                {
                    "output_type": "stream",
                    "name": "stdout",
                    "text": [
                        "bleu\n",
                        "red\n",
                        "yellow\n",
                        "green\n",
                        "orange\n"
                    ]
                },
                {
                    "output_type": "execute_result",
                    "data": {
                        "text/plain": [
                            "['bleu', 'black', 'red', 'yellow', 'green', 'orange', 'purple']"
                        ]
                    },
                    "metadata": {},
                    "execution_count": 24
                }
            ],
            "metadata": {}
        },
        {
            "cell_type": "code",
            "execution_count": null,
            "source": [],
            "outputs": [],
            "metadata": {}
        }
    ],
    "metadata": {
        "orig_nbformat": 4,
        "language_info": {
            "name": "python",
            "version": "3.7.7",
            "mimetype": "text/x-python",
            "codemirror_mode": {
                "name": "ipython",
                "version": 3
            },
            "pygments_lexer": "ipython3",
            "nbconvert_exporter": "python",
            "file_extension": ".py"
        },
        "kernelspec": {
            "name": "python3",
            "display_name": "Python 3.7.7 64-bit ('myenv': conda)"
        },
        "interpreter": {
            "hash": "28dbef228a6a3bcf719825df92d17188a17f4a6e89f281f9f8d187d8be9f5185"
        }
    },
    "nbformat": 4,
    "nbformat_minor": 2
}